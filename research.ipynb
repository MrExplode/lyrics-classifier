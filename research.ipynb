{
 "cells": [
  {
   "cell_type": "markdown",
   "source": [
    "# Lyrics Classifier research notebook\n",
    "This notebook attempts to classify some stuff about songs based on their lyrics."
   ],
   "metadata": {
    "collapsed": false
   },
   "id": "819dca604f318a08"
  },
  {
   "cell_type": "markdown",
   "source": [
    "### Imports"
   ],
   "metadata": {
    "collapsed": false
   },
   "id": "ff02b5701e9ff323"
  },
  {
   "cell_type": "code",
   "execution_count": 1,
   "id": "initial_id",
   "metadata": {
    "collapsed": true,
    "ExecuteTime": {
     "end_time": "2023-11-15T20:29:44.949971700Z",
     "start_time": "2023-11-15T20:29:43.841427Z"
    }
   },
   "outputs": [],
   "source": [
    "import pandas as pd\n",
    "import numpy as np\n",
    "import matplotlib.pyplot as plt"
   ]
  },
  {
   "cell_type": "markdown",
   "source": [
    "## Data\n",
    "\n",
    "Lyrics - [Kaggle](https://www.kaggle.com/datasets/notshrirang/spotify-million-song-dataset/)\n",
    "**BIG** dataset containing nothing but the song name and lyrics"
   ],
   "metadata": {
    "collapsed": false
   },
   "id": "cb56986bba3daf43"
  },
  {
   "cell_type": "code",
   "execution_count": 16,
   "outputs": [
    {
     "data": {
      "text/plain": "Index(['artist', 'song', 'text'], dtype='object')"
     },
     "execution_count": 16,
     "metadata": {},
     "output_type": "execute_result"
    }
   ],
   "source": [
    "lyrics_data = pd.read_csv('lyrics_data.csv')\n",
    "lyrics_data = lyrics_data.drop(columns=['link'])\n",
    "lyrics_data.columns"
   ],
   "metadata": {
    "collapsed": false,
    "ExecuteTime": {
     "end_time": "2023-11-15T20:35:56.490003500Z",
     "start_time": "2023-11-15T20:35:55.658494Z"
    }
   },
   "id": "61629fa34e5c3b9c"
  },
  {
   "cell_type": "markdown",
   "source": [
    "Meta dataset #1 - [Kaggle](https://www.kaggle.com/datasets/maharshipandya/-spotify-tracks-dataset)\n",
    "\n",
    "Detailed track information.  \n",
    "We have to clean it up."
   ],
   "metadata": {
    "collapsed": false
   },
   "id": "94e6f24bc28d0eed"
  },
  {
   "cell_type": "code",
   "execution_count": 49,
   "outputs": [
    {
     "data": {
      "text/plain": "(81344, 15)"
     },
     "execution_count": 49,
     "metadata": {},
     "output_type": "execute_result"
    }
   ],
   "source": [
    "meta_data = pd.read_csv('meta_data_1.csv')\n",
    "meta_data = meta_data.drop_duplicates(subset=['track_name', 'artists'])\n",
    "meta_data = meta_data.drop(columns=['track_id', 'artists', 'album_name', 'time_signature', 'popularity'])\n",
    "meta_data = meta_data.drop(meta_data.columns[0], axis=1)\n",
    "meta_data = meta_data.rename(columns={'track_name': 'song'})\n",
    "meta_data.shape"
   ],
   "metadata": {
    "collapsed": false,
    "ExecuteTime": {
     "end_time": "2023-11-15T20:55:52.601615800Z",
     "start_time": "2023-11-15T20:55:52.270665600Z"
    }
   },
   "id": "aad9de26ce740a69"
  },
  {
   "cell_type": "markdown",
   "source": [
    "Meta dataset #2 - [Kaggle](https://www.kaggle.com/datasets/salvatorerastelli/spotify-and-youtube)\n",
    "\n",
    "Pretty much the same as the first meta dataset, I hope it contains more data."
   ],
   "metadata": {
    "collapsed": false
   },
   "id": "3f087f8a2f6974c5"
  },
  {
   "cell_type": "code",
   "execution_count": 54,
   "outputs": [
    {
     "data": {
      "text/plain": "(20636, 12)"
     },
     "execution_count": 54,
     "metadata": {},
     "output_type": "execute_result"
    }
   ],
   "source": [
    "meta_data2 = pd.read_csv('meta_data_2.csv')\n",
    "meta_data2 = (meta_data2.drop_duplicates(subset=['Track', 'Artist'])\n",
    "              .drop(columns=['Url_spotify', 'Artist', 'Album', 'Album_type', 'Uri', 'Url_youtube', 'Channel', 'Views', 'Likes', 'Comments', 'Description', 'Licensed', 'official_video', 'Stream', 'Title'])\n",
    "              .drop(meta_data2.columns[0], axis=1)\n",
    "              .rename(columns={'Track': 'song'})\n",
    "              )\n",
    "meta_data2.columns = map(str.lower, meta_data2.columns)\n",
    "meta_data2.shape"
   ],
   "metadata": {
    "collapsed": false,
    "ExecuteTime": {
     "end_time": "2023-11-15T20:57:23.635447700Z",
     "start_time": "2023-11-15T20:57:23.105234500Z"
    }
   },
   "id": "5acfd7a70990d301"
  },
  {
   "cell_type": "markdown",
   "source": [
    "# Combining datasets\n",
    "\n",
    "We have our separate datasets: one for lyrics, two for other data  \n",
    "Now we try to join them together on the song names."
   ],
   "metadata": {
    "collapsed": false
   },
   "id": "6b07acb336b58f41"
  },
  {
   "cell_type": "code",
   "execution_count": 60,
   "outputs": [
    {
     "data": {
      "text/plain": "(2672, 14)"
     },
     "execution_count": 60,
     "metadata": {},
     "output_type": "execute_result"
    }
   ],
   "source": [
    "merge = pd.merge(lyrics_data, meta_data, on='song')\n",
    "merge = merge.drop_duplicates(subset='song')\n",
    "merge2 = pd.merge(lyrics_data, meta_data2, on='song')\n",
    "merge2 = merge2.drop_duplicates(subset='song')\n",
    "merge2.shape"
   ],
   "metadata": {
    "collapsed": false,
    "ExecuteTime": {
     "end_time": "2023-11-15T20:59:17.324571900Z",
     "start_time": "2023-11-15T20:59:17.248569800Z"
    }
   },
   "id": "5f1799476ac0c1fb"
  }
 ],
 "metadata": {
  "kernelspec": {
   "display_name": "Python 3",
   "language": "python",
   "name": "python3"
  },
  "language_info": {
   "codemirror_mode": {
    "name": "ipython",
    "version": 2
   },
   "file_extension": ".py",
   "mimetype": "text/x-python",
   "name": "python",
   "nbconvert_exporter": "python",
   "pygments_lexer": "ipython2",
   "version": "2.7.6"
  }
 },
 "nbformat": 4,
 "nbformat_minor": 5
}
