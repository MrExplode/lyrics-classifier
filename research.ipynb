{
 "cells": [
  {
   "cell_type": "markdown",
   "source": [
    "# Lyrics Classifier research notebook\n",
    "This notebook attempts to classify some stuff about songs based on their lyrics."
   ],
   "metadata": {
    "collapsed": false
   },
   "id": "819dca604f318a08"
  },
  {
   "cell_type": "markdown",
   "source": [
    "### Imports"
   ],
   "metadata": {
    "collapsed": false
   },
   "id": "ff02b5701e9ff323"
  },
  {
   "cell_type": "code",
   "execution_count": 2,
   "id": "initial_id",
   "metadata": {
    "collapsed": true,
    "ExecuteTime": {
     "end_time": "2023-11-16T00:37:44.838076500Z",
     "start_time": "2023-11-16T00:37:43.986933700Z"
    }
   },
   "outputs": [],
   "source": [
    "import pandas as pd\n",
    "import numpy as np\n",
    "import matplotlib.pyplot as plt"
   ]
  },
  {
   "cell_type": "markdown",
   "source": [
    "## Data\n",
    "\n",
    "Lyrics - [Kaggle](https://www.kaggle.com/datasets/notshrirang/spotify-million-song-dataset/)\n",
    "**BIG** dataset containing nothing but the song name and lyrics"
   ],
   "metadata": {
    "collapsed": false
   },
   "id": "cb56986bba3daf43"
  },
  {
   "cell_type": "code",
   "execution_count": 3,
   "outputs": [
    {
     "name": "stdout",
     "output_type": "stream",
     "text": [
      "lyrics shape: (57650, 3)\n"
     ]
    },
    {
     "data": {
      "text/plain": "Index(['artist', 'song', 'text'], dtype='object')"
     },
     "execution_count": 3,
     "metadata": {},
     "output_type": "execute_result"
    }
   ],
   "source": [
    "lyrics_data = pd.read_csv('lyrics_data.csv')\n",
    "lyrics_data = lyrics_data.drop(columns=['link'])\n",
    "print('lyrics shape:', lyrics_data.shape)\n",
    "lyrics_data.columns"
   ],
   "metadata": {
    "collapsed": false,
    "ExecuteTime": {
     "end_time": "2023-11-16T00:37:45.579514100Z",
     "start_time": "2023-11-16T00:37:44.840077600Z"
    }
   },
   "id": "61629fa34e5c3b9c"
  },
  {
   "cell_type": "markdown",
   "source": [
    "Meta dataset #1 - [Kaggle](https://www.kaggle.com/datasets/maharshipandya/-spotify-tracks-dataset)\n",
    "\n",
    "Detailed track information.  \n",
    "We have to clean it up."
   ],
   "metadata": {
    "collapsed": false
   },
   "id": "94e6f24bc28d0eed"
  },
  {
   "cell_type": "code",
   "execution_count": 4,
   "outputs": [
    {
     "name": "stdout",
     "output_type": "stream",
     "text": [
      "meta #1 shape: (81344, 14)\n"
     ]
    },
    {
     "data": {
      "text/plain": "Index(['artist', 'song', 'duration_ms', 'danceability', 'energy', 'key',\n       'loudness', 'speechiness', 'acousticness', 'instrumentalness',\n       'liveness', 'valence', 'tempo', 'track_genre'],\n      dtype='object')"
     },
     "execution_count": 4,
     "metadata": {},
     "output_type": "execute_result"
    }
   ],
   "source": [
    "meta_data = pd.read_csv('meta_data_1.csv')\n",
    "meta_data = meta_data.drop_duplicates(subset=['track_name', 'artists'])\n",
    "meta_data = meta_data.drop(columns=['track_id', 'album_name', 'time_signature', 'popularity', 'explicit', 'mode'])\n",
    "meta_data = meta_data.drop(meta_data.columns[0], axis=1)\n",
    "meta_data = meta_data.rename(columns={'track_name': 'song', 'artists': 'artist'})\n",
    "print('meta #1 shape:', meta_data.shape)\n",
    "meta_data.columns"
   ],
   "metadata": {
    "collapsed": false,
    "ExecuteTime": {
     "end_time": "2023-11-16T00:37:45.892256Z",
     "start_time": "2023-11-16T00:37:45.576513Z"
    }
   },
   "id": "aad9de26ce740a69"
  },
  {
   "cell_type": "markdown",
   "source": [
    "Meta dataset #2 - [Kaggle](https://www.kaggle.com/datasets/salvatorerastelli/spotify-and-youtube)\n",
    "\n",
    "Pretty much the same as the first meta dataset, I hope it contains more data. (probably not..."
   ],
   "metadata": {
    "collapsed": false
   },
   "id": "3f087f8a2f6974c5"
  },
  {
   "cell_type": "code",
   "execution_count": 5,
   "outputs": [
    {
     "data": {
      "text/plain": "Index(['artist', 'song', 'danceability', 'energy', 'key', 'loudness',\n       'speechiness', 'acousticness', 'instrumentalness', 'liveness',\n       'valence', 'tempo', 'duration_ms'],\n      dtype='object')"
     },
     "execution_count": 5,
     "metadata": {},
     "output_type": "execute_result"
    }
   ],
   "source": [
    "meta_data2 = pd.read_csv('meta_data_2.csv')\n",
    "meta_data2 = (meta_data2.drop_duplicates(subset=['Track', 'Artist'])\n",
    "              .drop(columns=['Url_spotify', 'Album', 'Album_type', 'Uri', 'Url_youtube', 'Channel', 'Views', 'Likes', 'Comments', 'Description', 'Licensed', 'official_video', 'Stream', 'Title'])\n",
    "              .drop(meta_data2.columns[0], axis=1)\n",
    "              .rename(columns={'Track': 'song'})\n",
    "              )\n",
    "meta_data2.columns = map(str.lower, meta_data2.columns)\n",
    "meta_data2.columns"
   ],
   "metadata": {
    "collapsed": false,
    "ExecuteTime": {
     "end_time": "2023-11-16T00:37:46.281306200Z",
     "start_time": "2023-11-16T00:37:45.889257300Z"
    }
   },
   "id": "5acfd7a70990d301"
  },
  {
   "cell_type": "markdown",
   "source": [
    "# Combining datasets\n",
    "\n",
    "We have our separate datasets: one for lyrics, two for other data  \n",
    "Now we try to join them together on the song names."
   ],
   "metadata": {
    "collapsed": false
   },
   "id": "6b07acb336b58f41"
  },
  {
   "cell_type": "code",
   "execution_count": 6,
   "outputs": [
    {
     "name": "stdout",
     "output_type": "stream",
     "text": [
      "merge1 size: (1127, 15)\n",
      "merge2 size: (1037, 14)\n"
     ]
    }
   ],
   "source": [
    "merge1 = pd.merge(lyrics_data, meta_data, on=['artist', 'song'])\n",
    "merge2 = pd.merge(lyrics_data, meta_data2, on=['artist', 'song'])\n",
    "print('merge1 size:', merge1.shape)\n",
    "print('merge2 size:', merge2.shape)"
   ],
   "metadata": {
    "collapsed": false,
    "ExecuteTime": {
     "end_time": "2023-11-16T00:37:46.371834500Z",
     "start_time": "2023-11-16T00:37:46.282306600Z"
    }
   },
   "id": "5f1799476ac0c1fb"
  },
  {
   "cell_type": "code",
   "execution_count": 7,
   "outputs": [],
   "source": [
    "concat = merge1#pd.concat([merge1, merge2])\n",
    "# concat = concat.drop_duplicates(subset=['artist', 'song'])\n",
    "# print('combined unique songs with lyrics and metadata:', concat.shape)\n",
    "# concat"
   ],
   "metadata": {
    "collapsed": false,
    "ExecuteTime": {
     "end_time": "2023-11-16T00:37:46.371834500Z",
     "start_time": "2023-11-16T00:37:46.364318200Z"
    }
   },
   "id": "5f6bde2e8c7e5246"
  },
  {
   "cell_type": "markdown",
   "source": [],
   "metadata": {
    "collapsed": false
   },
   "id": "ccbc7d99a4ff5460"
  },
  {
   "cell_type": "markdown",
   "source": [
    "Narrowing down the meaningless made up words into real genres"
   ],
   "metadata": {
    "collapsed": false
   },
   "id": "ea2a122755120dc8"
  },
  {
   "cell_type": "code",
   "execution_count": 8,
   "outputs": [
    {
     "name": "stdout",
     "output_type": "stream",
     "text": [
      "genres before collapsing: 59\n",
      "genres after collapsing: 20\n"
     ]
    }
   ],
   "source": [
    "mapping = {\n",
    "    'hard-rock': 'rock',\n",
    "    'psych-rock': 'rock',\n",
    "    'j-rock': 'rock',\n",
    "    'goth': 'rock',\n",
    "    'alt-rock': 'rock',\n",
    "    'german': 'rock',\n",
    "    'synth-pop': 'pop',\n",
    "    'power-pop': 'pop',\n",
    "    'indie-pop': 'pop',\n",
    "    'j-pop': 'pop',\n",
    "    'swedish': 'pop',\n",
    "    'british': 'pop',\n",
    "    'piano': 'pop',\n",
    "    'latin': 'pop',\n",
    "    'electro': 'pop',\n",
    "    'electronic': 'pop',\n",
    "    'world-music': 'pop',\n",
    "    'edm': 'pop',\n",
    "    'grunge': 'metal',\n",
    "    'death-metal': 'metal',\n",
    "    'black-metal': 'metal',\n",
    "    'metalcore': 'metal',\n",
    "    'classical': 'metal',\n",
    "    'hardcore': 'metal',\n",
    "    'rockabilly': 'rock-n-roll',\n",
    "    'r-n-b': 'rock-n-roll',\n",
    "    'j-dance': 'dance',\n",
    "    'garage': 'edm',\n",
    "    'dancehall': 'reggae',\n",
    "    'ska': 'reggae',\n",
    "    'dub': 'reggae',\n",
    "    'children': 'reggae',\n",
    "    'bluegrass': 'folk',\n",
    "    'punk-rock': 'punk',\n",
    "    'alternative': 'punk',\n",
    "    'emo': 'punk',\n",
    "    'guitar': 'punk',\n",
    "    'funk': 'blues',\n",
    "    'singer-songwriter': 'blues',\n",
    "    'honky-tonk': 'country'\n",
    "}\n",
    "\n",
    "def collapse_genres(genre):\n",
    "    if genre in mapping:\n",
    "        return mapping[genre]\n",
    "    return genre\n",
    "\n",
    "print('genres before collapsing:', len(concat['track_genre'].unique()))\n",
    "concat['track_genre'] = concat['track_genre'].apply(collapse_genres)\n",
    "print('genres after collapsing:', len(concat['track_genre'].unique()))"
   ],
   "metadata": {
    "collapsed": false,
    "ExecuteTime": {
     "end_time": "2023-11-16T00:37:46.376346400Z",
     "start_time": "2023-11-16T00:37:46.369832300Z"
    }
   },
   "id": "d8e82b93fd74c18f"
  },
  {
   "cell_type": "markdown",
   "source": [
    "Discard meaningless values"
   ],
   "metadata": {
    "collapsed": false
   },
   "id": "99aa1ce90f6d37ea"
  },
  {
   "cell_type": "code",
   "execution_count": 19,
   "outputs": [
    {
     "name": "stdout",
     "output_type": "stream",
     "text": [
      "shape: (831, 15)\n"
     ]
    },
    {
     "data": {
      "text/plain": "array(['pop', 'rock', 'metal', 'blues', 'country'], dtype=object)"
     },
     "execution_count": 19,
     "metadata": {},
     "output_type": "execute_result"
    }
   ],
   "source": [
    "from collections import Counter\n",
    "\n",
    "count = Counter(concat['track_genre'])\n",
    "\n",
    "pruned = concat[concat.apply(lambda x: True if count[x['track_genre']] > 50 else False, axis=1)]\n",
    "print('shape:', pruned.shape)\n",
    "pruned['track_genre'].unique()"
   ],
   "metadata": {
    "collapsed": false,
    "ExecuteTime": {
     "end_time": "2023-11-16T00:43:34.354146500Z",
     "start_time": "2023-11-16T00:43:34.280161600Z"
    }
   },
   "id": "3f470d20a0adc5a2"
  },
  {
   "cell_type": "markdown",
   "source": [
    "Not gonna lie this is depressing   \n",
    "\n",
    "Let's chop up each song into verses."
   ],
   "metadata": {
    "collapsed": false
   },
   "id": "e7bacc3184270f1f"
  },
  {
   "cell_type": "code",
   "execution_count": 22,
   "outputs": [
    {
     "data": {
      "text/plain": "                 artist                    song  duration_ms  danceability  \\\n0                  ABBA        Andante, Andante       278213         0.523   \n0                  ABBA        Andante, Andante       278213         0.523   \n0                  ABBA        Andante, Andante       278213         0.523   \n0                  ABBA        Andante, Andante       278213         0.523   \n0                  ABBA        Andante, Andante       278213         0.523   \n...                 ...                     ...          ...           ...   \n1124  Within Temptation         Stand My Ground       267986         0.271   \n1124  Within Temptation         Stand My Ground       267986         0.271   \n1124  Within Temptation         Stand My Ground       267986         0.271   \n1124  Within Temptation         Stand My Ground       267986         0.271   \n1125                XTC  Making Plans For Nigel       253800         0.632   \n\n      energy  key  loudness  speechiness  acousticness  instrumentalness  \\\n0      0.361   10   -10.718       0.0238        0.6840          0.000348   \n0      0.361   10   -10.718       0.0238        0.6840          0.000348   \n0      0.361   10   -10.718       0.0238        0.6840          0.000348   \n0      0.361   10   -10.718       0.0238        0.6840          0.000348   \n0      0.361   10   -10.718       0.0238        0.6840          0.000348   \n...      ...  ...       ...          ...           ...               ...   \n1124   0.866    5    -4.072       0.0578        0.0489          0.000762   \n1124   0.866    5    -4.072       0.0578        0.0489          0.000762   \n1124   0.866    5    -4.072       0.0578        0.0489          0.000762   \n1124   0.866    5    -4.072       0.0578        0.0489          0.000762   \n1125   0.893    7    -6.040       0.0455        0.0143          0.000005   \n\n      liveness  valence    tempo track_genre  \\\n0       0.0671    0.380  101.887         pop   \n0       0.0671    0.380  101.887         pop   \n0       0.0671    0.380  101.887         pop   \n0       0.0671    0.380  101.887         pop   \n0       0.0671    0.380  101.887         pop   \n...        ...      ...      ...         ...   \n1124    0.1160    0.127  175.665        rock   \n1124    0.1160    0.127  175.665        rock   \n1124    0.1160    0.127  175.665        rock   \n1124    0.1160    0.127  175.665        rock   \n1125    0.0741    0.773  149.970         pop   \n\n                                                   text  \n0     Take it easy with me, please   Touch me gently...  \n0     Make your fingers soft and light   Let your bo...  \n0     I'm your music   (I am your music and I am you...  \n0     There's a shimmer in your eyes   Like the feel...  \n0     I'm your music   (I am your music and I am you...  \n...                                                 ...  \n1124  Stand my ground   I won't give in   No more de...  \n1124  All I know for sure is that I'm trying   I wil...  \n1124  Stand my ground   I won't give in, (I won't gi...  \n1124  Stand my ground   I won't give in   No more de...  \n1125  We're only making plans for Nigel   We only wa...  \n\n[5720 rows x 15 columns]",
      "text/html": "<div>\n<style scoped>\n    .dataframe tbody tr th:only-of-type {\n        vertical-align: middle;\n    }\n\n    .dataframe tbody tr th {\n        vertical-align: top;\n    }\n\n    .dataframe thead th {\n        text-align: right;\n    }\n</style>\n<table border=\"1\" class=\"dataframe\">\n  <thead>\n    <tr style=\"text-align: right;\">\n      <th></th>\n      <th>artist</th>\n      <th>song</th>\n      <th>duration_ms</th>\n      <th>danceability</th>\n      <th>energy</th>\n      <th>key</th>\n      <th>loudness</th>\n      <th>speechiness</th>\n      <th>acousticness</th>\n      <th>instrumentalness</th>\n      <th>liveness</th>\n      <th>valence</th>\n      <th>tempo</th>\n      <th>track_genre</th>\n      <th>text</th>\n    </tr>\n  </thead>\n  <tbody>\n    <tr>\n      <th>0</th>\n      <td>ABBA</td>\n      <td>Andante, Andante</td>\n      <td>278213</td>\n      <td>0.523</td>\n      <td>0.361</td>\n      <td>10</td>\n      <td>-10.718</td>\n      <td>0.0238</td>\n      <td>0.6840</td>\n      <td>0.000348</td>\n      <td>0.0671</td>\n      <td>0.380</td>\n      <td>101.887</td>\n      <td>pop</td>\n      <td>Take it easy with me, please   Touch me gently...</td>\n    </tr>\n    <tr>\n      <th>0</th>\n      <td>ABBA</td>\n      <td>Andante, Andante</td>\n      <td>278213</td>\n      <td>0.523</td>\n      <td>0.361</td>\n      <td>10</td>\n      <td>-10.718</td>\n      <td>0.0238</td>\n      <td>0.6840</td>\n      <td>0.000348</td>\n      <td>0.0671</td>\n      <td>0.380</td>\n      <td>101.887</td>\n      <td>pop</td>\n      <td>Make your fingers soft and light   Let your bo...</td>\n    </tr>\n    <tr>\n      <th>0</th>\n      <td>ABBA</td>\n      <td>Andante, Andante</td>\n      <td>278213</td>\n      <td>0.523</td>\n      <td>0.361</td>\n      <td>10</td>\n      <td>-10.718</td>\n      <td>0.0238</td>\n      <td>0.6840</td>\n      <td>0.000348</td>\n      <td>0.0671</td>\n      <td>0.380</td>\n      <td>101.887</td>\n      <td>pop</td>\n      <td>I'm your music   (I am your music and I am you...</td>\n    </tr>\n    <tr>\n      <th>0</th>\n      <td>ABBA</td>\n      <td>Andante, Andante</td>\n      <td>278213</td>\n      <td>0.523</td>\n      <td>0.361</td>\n      <td>10</td>\n      <td>-10.718</td>\n      <td>0.0238</td>\n      <td>0.6840</td>\n      <td>0.000348</td>\n      <td>0.0671</td>\n      <td>0.380</td>\n      <td>101.887</td>\n      <td>pop</td>\n      <td>There's a shimmer in your eyes   Like the feel...</td>\n    </tr>\n    <tr>\n      <th>0</th>\n      <td>ABBA</td>\n      <td>Andante, Andante</td>\n      <td>278213</td>\n      <td>0.523</td>\n      <td>0.361</td>\n      <td>10</td>\n      <td>-10.718</td>\n      <td>0.0238</td>\n      <td>0.6840</td>\n      <td>0.000348</td>\n      <td>0.0671</td>\n      <td>0.380</td>\n      <td>101.887</td>\n      <td>pop</td>\n      <td>I'm your music   (I am your music and I am you...</td>\n    </tr>\n    <tr>\n      <th>...</th>\n      <td>...</td>\n      <td>...</td>\n      <td>...</td>\n      <td>...</td>\n      <td>...</td>\n      <td>...</td>\n      <td>...</td>\n      <td>...</td>\n      <td>...</td>\n      <td>...</td>\n      <td>...</td>\n      <td>...</td>\n      <td>...</td>\n      <td>...</td>\n      <td>...</td>\n    </tr>\n    <tr>\n      <th>1124</th>\n      <td>Within Temptation</td>\n      <td>Stand My Ground</td>\n      <td>267986</td>\n      <td>0.271</td>\n      <td>0.866</td>\n      <td>5</td>\n      <td>-4.072</td>\n      <td>0.0578</td>\n      <td>0.0489</td>\n      <td>0.000762</td>\n      <td>0.1160</td>\n      <td>0.127</td>\n      <td>175.665</td>\n      <td>rock</td>\n      <td>Stand my ground   I won't give in   No more de...</td>\n    </tr>\n    <tr>\n      <th>1124</th>\n      <td>Within Temptation</td>\n      <td>Stand My Ground</td>\n      <td>267986</td>\n      <td>0.271</td>\n      <td>0.866</td>\n      <td>5</td>\n      <td>-4.072</td>\n      <td>0.0578</td>\n      <td>0.0489</td>\n      <td>0.000762</td>\n      <td>0.1160</td>\n      <td>0.127</td>\n      <td>175.665</td>\n      <td>rock</td>\n      <td>All I know for sure is that I'm trying   I wil...</td>\n    </tr>\n    <tr>\n      <th>1124</th>\n      <td>Within Temptation</td>\n      <td>Stand My Ground</td>\n      <td>267986</td>\n      <td>0.271</td>\n      <td>0.866</td>\n      <td>5</td>\n      <td>-4.072</td>\n      <td>0.0578</td>\n      <td>0.0489</td>\n      <td>0.000762</td>\n      <td>0.1160</td>\n      <td>0.127</td>\n      <td>175.665</td>\n      <td>rock</td>\n      <td>Stand my ground   I won't give in, (I won't gi...</td>\n    </tr>\n    <tr>\n      <th>1124</th>\n      <td>Within Temptation</td>\n      <td>Stand My Ground</td>\n      <td>267986</td>\n      <td>0.271</td>\n      <td>0.866</td>\n      <td>5</td>\n      <td>-4.072</td>\n      <td>0.0578</td>\n      <td>0.0489</td>\n      <td>0.000762</td>\n      <td>0.1160</td>\n      <td>0.127</td>\n      <td>175.665</td>\n      <td>rock</td>\n      <td>Stand my ground   I won't give in   No more de...</td>\n    </tr>\n    <tr>\n      <th>1125</th>\n      <td>XTC</td>\n      <td>Making Plans For Nigel</td>\n      <td>253800</td>\n      <td>0.632</td>\n      <td>0.893</td>\n      <td>7</td>\n      <td>-6.040</td>\n      <td>0.0455</td>\n      <td>0.0143</td>\n      <td>0.000005</td>\n      <td>0.0741</td>\n      <td>0.773</td>\n      <td>149.970</td>\n      <td>pop</td>\n      <td>We're only making plans for Nigel   We only wa...</td>\n    </tr>\n  </tbody>\n</table>\n<p>5720 rows × 15 columns</p>\n</div>"
     },
     "execution_count": 22,
     "metadata": {},
     "output_type": "execute_result"
    }
   ],
   "source": [
    "def clean_text(t: str):\n",
    "    return t.replace('\\r\\n', ' ').strip()\n",
    "\n",
    "verse_data = pruned.copy()\n",
    "verse_data['new_text'] = verse_data['text'].str.split('\\r\\n  \\r\\n')\n",
    "verse_data = verse_data.drop(['text'], axis=1).explode('new_text').rename(columns={'new_text': 'text'})\n",
    "verse_data['text'] = verse_data['text'].apply(clean_text)\n",
    "verse_data"
   ],
   "metadata": {
    "collapsed": false,
    "ExecuteTime": {
     "end_time": "2023-11-16T00:46:02.278880200Z",
     "start_time": "2023-11-16T00:46:02.247015500Z"
    }
   },
   "id": "34a56f68bff92d3"
  },
  {
   "cell_type": "markdown",
   "source": [
    "I expected more"
   ],
   "metadata": {
    "collapsed": false
   },
   "id": "7b8bd61e5b795d47"
  },
  {
   "cell_type": "code",
   "execution_count": 11,
   "outputs": [
    {
     "name": "stdout",
     "output_type": "stream",
     "text": [
      "Take it easy with me, please   Touch me gently like a summer evening breeze   Take your time, make it slow   Andante, Andante   Just let the feeling grow\n",
      "Make your fingers soft and light   Let your body be the velvet of the night   Touch my soul, you know how   Andante, Andante   Go slowly with me now\n",
      "I'm your music   (I am your music and I am your song)   I'm your song   (I am your music and I am your song)   Play me time and time again and make me strong   (Play me again 'cause you're making me strong)   Make me sing, make me sound   (You make me sing and you make me)   Andante, Andante   Tread lightly on my ground   Andante, Andante   Oh please don't let me down\n",
      "There's a shimmer in your eyes   Like the feeling of a thousand butterflies   Please don't talk, go on, play   Andante, Andante   And let me float away\n",
      "I'm your music   (I am your music and I am your song)   I'm your song   (I am your music and I am your song)   Play me time and time again and make me strong   (Play me again 'cause you're making me strong)   Make me sing, make me sound   (You make me sing and you make me)   Andante, Andante   Tread lightly on my ground   Andante, Andante   Oh please don't let me down\n",
      "Make me sing, make me sound   (You make me sing and you make me)   Andante, Andante   Tread lightly on my ground   Andante, Andante   Oh please don't let me down   Andante, Andante   Oh please don't let me down\n"
     ]
    }
   ],
   "source": [],
   "metadata": {
    "collapsed": false,
    "ExecuteTime": {
     "end_time": "2023-11-16T00:37:46.451655300Z",
     "start_time": "2023-11-16T00:37:46.410346600Z"
    }
   },
   "id": "201f2e2537ab6959"
  }
 ],
 "metadata": {
  "kernelspec": {
   "display_name": "Python 3",
   "language": "python",
   "name": "python3"
  },
  "language_info": {
   "codemirror_mode": {
    "name": "ipython",
    "version": 2
   },
   "file_extension": ".py",
   "mimetype": "text/x-python",
   "name": "python",
   "nbconvert_exporter": "python",
   "pygments_lexer": "ipython2",
   "version": "2.7.6"
  }
 },
 "nbformat": 4,
 "nbformat_minor": 5
}
