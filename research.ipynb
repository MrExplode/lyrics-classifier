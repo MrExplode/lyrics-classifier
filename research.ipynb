{
  "cells": [
    {
      "cell_type": "markdown",
      "source": [
        "# Lyrics Classifier research notebook\n",
        "This notebook attempts to classify the genre of songs based on their lyrics."
      ],
      "metadata": {
        "collapsed": false,
        "id": "819dca604f318a08"
      },
      "id": "819dca604f318a08"
    },
    {
      "cell_type": "code",
      "source": [
        "from google.colab import drive\n",
        "drive.mount('/content/drive')"
      ],
      "metadata": {
        "colab": {
          "base_uri": "https://localhost:8080/"
        },
        "id": "_GL0pEmUdQXW",
        "outputId": "67469769-c9ee-4aca-89ed-a418cbedf4a4"
      },
      "id": "_GL0pEmUdQXW",
      "execution_count": null,
      "outputs": [
        {
          "output_type": "stream",
          "name": "stdout",
          "text": [
            "Drive already mounted at /content/drive; to attempt to forcibly remount, call drive.mount(\"/content/drive\", force_remount=True).\n"
          ]
        }
      ]
    },
    {
      "cell_type": "code",
      "source": [
        "!pip install transformers\n",
        "!pip install datasets\n",
        "!pip install evaluate\n",
        "!pip install matplotlib\n",
        "!pip install numpy\n",
        "!pip install pandas\n",
        "!pip install torch\n",
        "!pip install accelerate -U"
      ],
      "metadata": {
        "id": "F28iDT57F70O"
      },
      "id": "F28iDT57F70O",
      "execution_count": null,
      "outputs": []
    },
    {
      "cell_type": "markdown",
      "source": [
        "### Imports"
      ],
      "metadata": {
        "collapsed": false,
        "id": "ff02b5701e9ff323"
      },
      "id": "ff02b5701e9ff323"
    },
    {
      "cell_type": "code",
      "execution_count": null,
      "id": "initial_id",
      "metadata": {
        "collapsed": true,
        "ExecuteTime": {
          "end_time": "2023-11-16T07:29:26.254301Z",
          "start_time": "2023-11-16T07:29:23.992183700Z"
        },
        "id": "initial_id"
      },
      "outputs": [],
      "source": [
        "import pandas as pd\n",
        "import numpy as np\n",
        "import matplotlib.pyplot as plt\n",
        "from collections import Counter\n",
        "from transformers import DistilBertTokenizer, DataCollatorWithPadding, AutoModelForSequenceClassification, TrainingArguments, Trainer, pipeline\n",
        "from datasets import Dataset\n",
        "import evaluate\n",
        "import torch"
      ]
    },
    {
      "cell_type": "markdown",
      "source": [
        "## Data\n",
        "\n",
        "Lyrics - [Kaggle](https://www.kaggle.com/datasets/notshrirang/spotify-million-song-dataset/)\n",
        "**BIG** dataset containing nothing but the song name and lyrics"
      ],
      "metadata": {
        "collapsed": false,
        "id": "cb56986bba3daf43"
      },
      "id": "cb56986bba3daf43"
    },
    {
      "cell_type": "code",
      "execution_count": null,
      "outputs": [
        {
          "output_type": "stream",
          "name": "stdout",
          "text": [
            "lyrics shape: (57650, 3)\n"
          ]
        },
        {
          "output_type": "execute_result",
          "data": {
            "text/plain": [
              "Index(['artist', 'song', 'text'], dtype='object')"
            ]
          },
          "metadata": {},
          "execution_count": 84
        }
      ],
      "source": [
        "lyrics_data = pd.read_csv('/content/drive/MyDrive/datasets/lyrics_data.csv')\n",
        "lyrics_data = lyrics_data.drop(columns=['link'])\n",
        "print('lyrics shape:', lyrics_data.shape)\n",
        "lyrics_data.columns"
      ],
      "metadata": {
        "ExecuteTime": {
          "end_time": "2023-11-16T07:29:28.061945Z",
          "start_time": "2023-11-16T07:29:26.274312900Z"
        },
        "colab": {
          "base_uri": "https://localhost:8080/"
        },
        "id": "61629fa34e5c3b9c",
        "outputId": "ceaf706a-d65d-4f2e-bb93-6fa767d1c2d8"
      },
      "id": "61629fa34e5c3b9c"
    },
    {
      "cell_type": "markdown",
      "source": [
        "Meta dataset #1 - [Kaggle](https://www.kaggle.com/datasets/maharshipandya/-spotify-tracks-dataset)\n",
        "\n",
        "Detailed track information.  \n",
        "We have to clean it up."
      ],
      "metadata": {
        "collapsed": false,
        "id": "94e6f24bc28d0eed"
      },
      "id": "94e6f24bc28d0eed"
    },
    {
      "cell_type": "code",
      "execution_count": null,
      "outputs": [
        {
          "output_type": "stream",
          "name": "stdout",
          "text": [
            "meta #1 shape: (81344, 14)\n"
          ]
        },
        {
          "output_type": "execute_result",
          "data": {
            "text/plain": [
              "Index(['artist', 'song', 'duration_ms', 'danceability', 'energy', 'key',\n",
              "       'loudness', 'speechiness', 'acousticness', 'instrumentalness',\n",
              "       'liveness', 'valence', 'tempo', 'track_genre'],\n",
              "      dtype='object')"
            ]
          },
          "metadata": {},
          "execution_count": 85
        }
      ],
      "source": [
        "meta_data = pd.read_csv('/content/drive/MyDrive/datasets/meta_data_1.csv')\n",
        "meta_data = meta_data.drop_duplicates(subset=['track_name', 'artists'])\n",
        "meta_data = meta_data.drop(columns=['track_id', 'album_name', 'time_signature', 'popularity', 'explicit', 'mode'])\n",
        "meta_data = meta_data.drop(meta_data.columns[0], axis=1)\n",
        "meta_data = meta_data.rename(columns={'track_name': 'song', 'artists': 'artist'})\n",
        "print('meta #1 shape:', meta_data.shape)\n",
        "meta_data.columns"
      ],
      "metadata": {
        "ExecuteTime": {
          "end_time": "2023-11-16T07:29:28.530245600Z",
          "start_time": "2023-11-16T07:29:28.049944700Z"
        },
        "colab": {
          "base_uri": "https://localhost:8080/"
        },
        "id": "aad9de26ce740a69",
        "outputId": "72d14546-4261-4827-99ae-1ea76c72e2d2"
      },
      "id": "aad9de26ce740a69"
    },
    {
      "cell_type": "markdown",
      "source": [
        "Meta dataset #2 - [Kaggle](https://www.kaggle.com/datasets/salvatorerastelli/spotify-and-youtube)\n",
        "\n",
        "Pretty much the same as the first meta dataset, I hope it contains more data. (probably not...)"
      ],
      "metadata": {
        "collapsed": false,
        "id": "3f087f8a2f6974c5"
      },
      "id": "3f087f8a2f6974c5"
    },
    {
      "cell_type": "code",
      "execution_count": null,
      "outputs": [
        {
          "output_type": "execute_result",
          "data": {
            "text/plain": [
              "Index(['artist', 'song', 'danceability', 'energy', 'key', 'loudness',\n",
              "       'speechiness', 'acousticness', 'instrumentalness', 'liveness',\n",
              "       'valence', 'tempo', 'duration_ms'],\n",
              "      dtype='object')"
            ]
          },
          "metadata": {},
          "execution_count": 86
        }
      ],
      "source": [
        "meta_data2 = pd.read_csv('/content/drive/MyDrive/datasets/meta_data_2.csv')\n",
        "meta_data2 = (meta_data2.drop_duplicates(subset=['Track', 'Artist'])\n",
        "              .drop(columns=['Url_spotify', 'Album', 'Album_type', 'Uri', 'Url_youtube', 'Channel', 'Views', 'Likes', 'Comments', 'Description', 'Licensed', 'official_video', 'Stream', 'Title'])\n",
        "              .drop(meta_data2.columns[0], axis=1)\n",
        "              .rename(columns={'Track': 'song'})\n",
        "              )\n",
        "meta_data2.columns = map(str.lower, meta_data2.columns)\n",
        "meta_data2.columns"
      ],
      "metadata": {
        "ExecuteTime": {
          "end_time": "2023-11-16T07:29:29.014440100Z",
          "start_time": "2023-11-16T07:29:28.531246800Z"
        },
        "colab": {
          "base_uri": "https://localhost:8080/"
        },
        "id": "5acfd7a70990d301",
        "outputId": "281e7743-2950-420b-aa5d-2cd91f210526"
      },
      "id": "5acfd7a70990d301"
    },
    {
      "cell_type": "markdown",
      "source": [
        "# Combining datasets\n",
        "\n",
        "We have our separate datasets: one for lyrics, two for other data  \n",
        "Now we try to join them together on the song names."
      ],
      "metadata": {
        "collapsed": false,
        "id": "6b07acb336b58f41"
      },
      "id": "6b07acb336b58f41"
    },
    {
      "cell_type": "code",
      "execution_count": null,
      "outputs": [
        {
          "output_type": "stream",
          "name": "stdout",
          "text": [
            "merge1 size: (1127, 15)\n",
            "merge2 size: (1037, 14)\n"
          ]
        }
      ],
      "source": [
        "merge1 = pd.merge(lyrics_data, meta_data, on=['artist', 'song'])\n",
        "merge2 = pd.merge(lyrics_data, meta_data2, on=['artist', 'song'])\n",
        "print('merge1 size:', merge1.shape)\n",
        "print('merge2 size:', merge2.shape)"
      ],
      "metadata": {
        "ExecuteTime": {
          "end_time": "2023-11-16T07:29:29.137106900Z",
          "start_time": "2023-11-16T07:29:29.011435700Z"
        },
        "colab": {
          "base_uri": "https://localhost:8080/"
        },
        "id": "5f1799476ac0c1fb",
        "outputId": "cd9ab757-9292-43bb-f750-e7c325de4a36"
      },
      "id": "5f1799476ac0c1fb"
    },
    {
      "cell_type": "code",
      "execution_count": null,
      "outputs": [],
      "source": [
        "concat = merge1#pd.concat([merge1, merge2])\n",
        "# concat = concat.drop_duplicates(subset=['artist', 'song'])\n",
        "# print('combined unique songs with lyrics and metadata:', concat.shape)\n",
        "# concat"
      ],
      "metadata": {
        "ExecuteTime": {
          "end_time": "2023-11-16T07:29:29.140107400Z",
          "start_time": "2023-11-16T07:29:29.135107800Z"
        },
        "id": "5f6bde2e8c7e5246"
      },
      "id": "5f6bde2e8c7e5246"
    },
    {
      "cell_type": "markdown",
      "source": [
        "Narrowing down the meaningless made up words into real genres"
      ],
      "metadata": {
        "collapsed": false,
        "id": "ea2a122755120dc8"
      },
      "id": "ea2a122755120dc8"
    },
    {
      "cell_type": "code",
      "execution_count": null,
      "outputs": [
        {
          "output_type": "stream",
          "name": "stdout",
          "text": [
            "genres before collapsing: 59\n",
            "genres after collapsing: 20\n"
          ]
        }
      ],
      "source": [
        "mapping = {\n",
        "    'hard-rock': 'rock',\n",
        "    'psych-rock': 'rock',\n",
        "    'j-rock': 'rock',\n",
        "    'goth': 'rock',\n",
        "    'alt-rock': 'rock',\n",
        "    'german': 'rock',\n",
        "    'synth-pop': 'pop',\n",
        "    'power-pop': 'pop',\n",
        "    'indie-pop': 'pop',\n",
        "    'j-pop': 'pop',\n",
        "    'swedish': 'pop',\n",
        "    'british': 'pop',\n",
        "    'piano': 'pop',\n",
        "    'latin': 'pop',\n",
        "    'electro': 'pop',\n",
        "    'electronic': 'pop',\n",
        "    'world-music': 'pop',\n",
        "    'edm': 'pop',\n",
        "    'grunge': 'metal',\n",
        "    'death-metal': 'metal',\n",
        "    'black-metal': 'metal',\n",
        "    'metalcore': 'metal',\n",
        "    'classical': 'metal',\n",
        "    'hardcore': 'metal',\n",
        "    'rockabilly': 'rock-n-roll',\n",
        "    'r-n-b': 'rock-n-roll',\n",
        "    'j-dance': 'dance',\n",
        "    'garage': 'edm',\n",
        "    'dancehall': 'reggae',\n",
        "    'ska': 'reggae',\n",
        "    'dub': 'reggae',\n",
        "    'children': 'reggae',\n",
        "    'bluegrass': 'folk',\n",
        "    'punk-rock': 'punk',\n",
        "    'alternative': 'punk',\n",
        "    'emo': 'punk',\n",
        "    'guitar': 'punk',\n",
        "    'funk': 'blues',\n",
        "    'singer-songwriter': 'blues',\n",
        "    'honky-tonk': 'country'\n",
        "}\n",
        "\n",
        "def collapse_genres(genre):\n",
        "    if genre in mapping:\n",
        "        return mapping[genre]\n",
        "    return genre\n",
        "\n",
        "print('genres before collapsing:', len(concat['track_genre'].unique()))\n",
        "concat['track_genre'] = concat['track_genre'].apply(collapse_genres)\n",
        "print('genres after collapsing:', len(concat['track_genre'].unique()))"
      ],
      "metadata": {
        "ExecuteTime": {
          "end_time": "2023-11-16T07:29:29.150521600Z",
          "start_time": "2023-11-16T07:29:29.142107400Z"
        },
        "colab": {
          "base_uri": "https://localhost:8080/"
        },
        "id": "d8e82b93fd74c18f",
        "outputId": "7fa5398d-fec7-4088-f67b-43c1ad4cd20d"
      },
      "id": "d8e82b93fd74c18f"
    },
    {
      "cell_type": "markdown",
      "source": [
        "Discard meaningless values"
      ],
      "metadata": {
        "collapsed": false,
        "id": "99aa1ce90f6d37ea"
      },
      "id": "99aa1ce90f6d37ea"
    },
    {
      "cell_type": "code",
      "execution_count": null,
      "outputs": [
        {
          "output_type": "stream",
          "name": "stdout",
          "text": [
            "shape: (831, 15)\n"
          ]
        },
        {
          "output_type": "execute_result",
          "data": {
            "text/plain": [
              "array(['pop', 'rock', 'metal', 'blues', 'country'], dtype=object)"
            ]
          },
          "metadata": {},
          "execution_count": 90
        }
      ],
      "source": [
        "count = Counter(concat['track_genre'])\n",
        "\n",
        "pruned = concat[concat.apply(lambda x: True if count[x['track_genre']] > 50 else False, axis=1)]\n",
        "print('shape:', pruned.shape)\n",
        "pruned['track_genre'].unique()"
      ],
      "metadata": {
        "ExecuteTime": {
          "end_time": "2023-11-16T07:29:29.244187200Z",
          "start_time": "2023-11-16T07:29:29.150521600Z"
        },
        "colab": {
          "base_uri": "https://localhost:8080/"
        },
        "id": "3f470d20a0adc5a2",
        "outputId": "4f78aa97-e176-466f-baaf-5e48a3a11618"
      },
      "id": "3f470d20a0adc5a2"
    },
    {
      "cell_type": "markdown",
      "source": [
        "Not the optimal amount of data to train with...   \n",
        "\n",
        "Let's chop up each song into verses."
      ],
      "metadata": {
        "collapsed": false,
        "id": "e7bacc3184270f1f"
      },
      "id": "e7bacc3184270f1f"
    },
    {
      "cell_type": "code",
      "execution_count": null,
      "outputs": [
        {
          "output_type": "execute_result",
          "data": {
            "text/plain": [
              "                 artist                    song  duration_ms  danceability  \\\n",
              "0                  ABBA        Andante, Andante       278213         0.523   \n",
              "0                  ABBA        Andante, Andante       278213         0.523   \n",
              "0                  ABBA        Andante, Andante       278213         0.523   \n",
              "0                  ABBA        Andante, Andante       278213         0.523   \n",
              "0                  ABBA        Andante, Andante       278213         0.523   \n",
              "...                 ...                     ...          ...           ...   \n",
              "1124  Within Temptation         Stand My Ground       267986         0.271   \n",
              "1124  Within Temptation         Stand My Ground       267986         0.271   \n",
              "1124  Within Temptation         Stand My Ground       267986         0.271   \n",
              "1124  Within Temptation         Stand My Ground       267986         0.271   \n",
              "1125                XTC  Making Plans For Nigel       253800         0.632   \n",
              "\n",
              "      energy  key  loudness  speechiness  acousticness  instrumentalness  \\\n",
              "0      0.361   10   -10.718       0.0238        0.6840          0.000348   \n",
              "0      0.361   10   -10.718       0.0238        0.6840          0.000348   \n",
              "0      0.361   10   -10.718       0.0238        0.6840          0.000348   \n",
              "0      0.361   10   -10.718       0.0238        0.6840          0.000348   \n",
              "0      0.361   10   -10.718       0.0238        0.6840          0.000348   \n",
              "...      ...  ...       ...          ...           ...               ...   \n",
              "1124   0.866    5    -4.072       0.0578        0.0489          0.000762   \n",
              "1124   0.866    5    -4.072       0.0578        0.0489          0.000762   \n",
              "1124   0.866    5    -4.072       0.0578        0.0489          0.000762   \n",
              "1124   0.866    5    -4.072       0.0578        0.0489          0.000762   \n",
              "1125   0.893    7    -6.040       0.0455        0.0143          0.000005   \n",
              "\n",
              "      liveness  valence    tempo track_genre  \\\n",
              "0       0.0671    0.380  101.887         pop   \n",
              "0       0.0671    0.380  101.887         pop   \n",
              "0       0.0671    0.380  101.887         pop   \n",
              "0       0.0671    0.380  101.887         pop   \n",
              "0       0.0671    0.380  101.887         pop   \n",
              "...        ...      ...      ...         ...   \n",
              "1124    0.1160    0.127  175.665        rock   \n",
              "1124    0.1160    0.127  175.665        rock   \n",
              "1124    0.1160    0.127  175.665        rock   \n",
              "1124    0.1160    0.127  175.665        rock   \n",
              "1125    0.0741    0.773  149.970         pop   \n",
              "\n",
              "                                                   text  \n",
              "0     Take it easy with me, please   Touch me gently...  \n",
              "0     Make your fingers soft and light   Let your bo...  \n",
              "0     I'm your music   (I am your music and I am you...  \n",
              "0     There's a shimmer in your eyes   Like the feel...  \n",
              "0     I'm your music   (I am your music and I am you...  \n",
              "...                                                 ...  \n",
              "1124  Stand my ground   I won't give in   No more de...  \n",
              "1124  All I know for sure is that I'm trying   I wil...  \n",
              "1124  Stand my ground   I won't give in, (I won't gi...  \n",
              "1124  Stand my ground   I won't give in   No more de...  \n",
              "1125  We're only making plans for Nigel   We only wa...  \n",
              "\n",
              "[5720 rows x 15 columns]"
            ],
            "text/html": [
              "\n",
              "  <div id=\"df-b42d289f-4fce-4283-a3c3-c668b324b99e\" class=\"colab-df-container\">\n",
              "    <div>\n",
              "<style scoped>\n",
              "    .dataframe tbody tr th:only-of-type {\n",
              "        vertical-align: middle;\n",
              "    }\n",
              "\n",
              "    .dataframe tbody tr th {\n",
              "        vertical-align: top;\n",
              "    }\n",
              "\n",
              "    .dataframe thead th {\n",
              "        text-align: right;\n",
              "    }\n",
              "</style>\n",
              "<table border=\"1\" class=\"dataframe\">\n",
              "  <thead>\n",
              "    <tr style=\"text-align: right;\">\n",
              "      <th></th>\n",
              "      <th>artist</th>\n",
              "      <th>song</th>\n",
              "      <th>duration_ms</th>\n",
              "      <th>danceability</th>\n",
              "      <th>energy</th>\n",
              "      <th>key</th>\n",
              "      <th>loudness</th>\n",
              "      <th>speechiness</th>\n",
              "      <th>acousticness</th>\n",
              "      <th>instrumentalness</th>\n",
              "      <th>liveness</th>\n",
              "      <th>valence</th>\n",
              "      <th>tempo</th>\n",
              "      <th>track_genre</th>\n",
              "      <th>text</th>\n",
              "    </tr>\n",
              "  </thead>\n",
              "  <tbody>\n",
              "    <tr>\n",
              "      <th>0</th>\n",
              "      <td>ABBA</td>\n",
              "      <td>Andante, Andante</td>\n",
              "      <td>278213</td>\n",
              "      <td>0.523</td>\n",
              "      <td>0.361</td>\n",
              "      <td>10</td>\n",
              "      <td>-10.718</td>\n",
              "      <td>0.0238</td>\n",
              "      <td>0.6840</td>\n",
              "      <td>0.000348</td>\n",
              "      <td>0.0671</td>\n",
              "      <td>0.380</td>\n",
              "      <td>101.887</td>\n",
              "      <td>pop</td>\n",
              "      <td>Take it easy with me, please   Touch me gently...</td>\n",
              "    </tr>\n",
              "    <tr>\n",
              "      <th>0</th>\n",
              "      <td>ABBA</td>\n",
              "      <td>Andante, Andante</td>\n",
              "      <td>278213</td>\n",
              "      <td>0.523</td>\n",
              "      <td>0.361</td>\n",
              "      <td>10</td>\n",
              "      <td>-10.718</td>\n",
              "      <td>0.0238</td>\n",
              "      <td>0.6840</td>\n",
              "      <td>0.000348</td>\n",
              "      <td>0.0671</td>\n",
              "      <td>0.380</td>\n",
              "      <td>101.887</td>\n",
              "      <td>pop</td>\n",
              "      <td>Make your fingers soft and light   Let your bo...</td>\n",
              "    </tr>\n",
              "    <tr>\n",
              "      <th>0</th>\n",
              "      <td>ABBA</td>\n",
              "      <td>Andante, Andante</td>\n",
              "      <td>278213</td>\n",
              "      <td>0.523</td>\n",
              "      <td>0.361</td>\n",
              "      <td>10</td>\n",
              "      <td>-10.718</td>\n",
              "      <td>0.0238</td>\n",
              "      <td>0.6840</td>\n",
              "      <td>0.000348</td>\n",
              "      <td>0.0671</td>\n",
              "      <td>0.380</td>\n",
              "      <td>101.887</td>\n",
              "      <td>pop</td>\n",
              "      <td>I'm your music   (I am your music and I am you...</td>\n",
              "    </tr>\n",
              "    <tr>\n",
              "      <th>0</th>\n",
              "      <td>ABBA</td>\n",
              "      <td>Andante, Andante</td>\n",
              "      <td>278213</td>\n",
              "      <td>0.523</td>\n",
              "      <td>0.361</td>\n",
              "      <td>10</td>\n",
              "      <td>-10.718</td>\n",
              "      <td>0.0238</td>\n",
              "      <td>0.6840</td>\n",
              "      <td>0.000348</td>\n",
              "      <td>0.0671</td>\n",
              "      <td>0.380</td>\n",
              "      <td>101.887</td>\n",
              "      <td>pop</td>\n",
              "      <td>There's a shimmer in your eyes   Like the feel...</td>\n",
              "    </tr>\n",
              "    <tr>\n",
              "      <th>0</th>\n",
              "      <td>ABBA</td>\n",
              "      <td>Andante, Andante</td>\n",
              "      <td>278213</td>\n",
              "      <td>0.523</td>\n",
              "      <td>0.361</td>\n",
              "      <td>10</td>\n",
              "      <td>-10.718</td>\n",
              "      <td>0.0238</td>\n",
              "      <td>0.6840</td>\n",
              "      <td>0.000348</td>\n",
              "      <td>0.0671</td>\n",
              "      <td>0.380</td>\n",
              "      <td>101.887</td>\n",
              "      <td>pop</td>\n",
              "      <td>I'm your music   (I am your music and I am you...</td>\n",
              "    </tr>\n",
              "    <tr>\n",
              "      <th>...</th>\n",
              "      <td>...</td>\n",
              "      <td>...</td>\n",
              "      <td>...</td>\n",
              "      <td>...</td>\n",
              "      <td>...</td>\n",
              "      <td>...</td>\n",
              "      <td>...</td>\n",
              "      <td>...</td>\n",
              "      <td>...</td>\n",
              "      <td>...</td>\n",
              "      <td>...</td>\n",
              "      <td>...</td>\n",
              "      <td>...</td>\n",
              "      <td>...</td>\n",
              "      <td>...</td>\n",
              "    </tr>\n",
              "    <tr>\n",
              "      <th>1124</th>\n",
              "      <td>Within Temptation</td>\n",
              "      <td>Stand My Ground</td>\n",
              "      <td>267986</td>\n",
              "      <td>0.271</td>\n",
              "      <td>0.866</td>\n",
              "      <td>5</td>\n",
              "      <td>-4.072</td>\n",
              "      <td>0.0578</td>\n",
              "      <td>0.0489</td>\n",
              "      <td>0.000762</td>\n",
              "      <td>0.1160</td>\n",
              "      <td>0.127</td>\n",
              "      <td>175.665</td>\n",
              "      <td>rock</td>\n",
              "      <td>Stand my ground   I won't give in   No more de...</td>\n",
              "    </tr>\n",
              "    <tr>\n",
              "      <th>1124</th>\n",
              "      <td>Within Temptation</td>\n",
              "      <td>Stand My Ground</td>\n",
              "      <td>267986</td>\n",
              "      <td>0.271</td>\n",
              "      <td>0.866</td>\n",
              "      <td>5</td>\n",
              "      <td>-4.072</td>\n",
              "      <td>0.0578</td>\n",
              "      <td>0.0489</td>\n",
              "      <td>0.000762</td>\n",
              "      <td>0.1160</td>\n",
              "      <td>0.127</td>\n",
              "      <td>175.665</td>\n",
              "      <td>rock</td>\n",
              "      <td>All I know for sure is that I'm trying   I wil...</td>\n",
              "    </tr>\n",
              "    <tr>\n",
              "      <th>1124</th>\n",
              "      <td>Within Temptation</td>\n",
              "      <td>Stand My Ground</td>\n",
              "      <td>267986</td>\n",
              "      <td>0.271</td>\n",
              "      <td>0.866</td>\n",
              "      <td>5</td>\n",
              "      <td>-4.072</td>\n",
              "      <td>0.0578</td>\n",
              "      <td>0.0489</td>\n",
              "      <td>0.000762</td>\n",
              "      <td>0.1160</td>\n",
              "      <td>0.127</td>\n",
              "      <td>175.665</td>\n",
              "      <td>rock</td>\n",
              "      <td>Stand my ground   I won't give in, (I won't gi...</td>\n",
              "    </tr>\n",
              "    <tr>\n",
              "      <th>1124</th>\n",
              "      <td>Within Temptation</td>\n",
              "      <td>Stand My Ground</td>\n",
              "      <td>267986</td>\n",
              "      <td>0.271</td>\n",
              "      <td>0.866</td>\n",
              "      <td>5</td>\n",
              "      <td>-4.072</td>\n",
              "      <td>0.0578</td>\n",
              "      <td>0.0489</td>\n",
              "      <td>0.000762</td>\n",
              "      <td>0.1160</td>\n",
              "      <td>0.127</td>\n",
              "      <td>175.665</td>\n",
              "      <td>rock</td>\n",
              "      <td>Stand my ground   I won't give in   No more de...</td>\n",
              "    </tr>\n",
              "    <tr>\n",
              "      <th>1125</th>\n",
              "      <td>XTC</td>\n",
              "      <td>Making Plans For Nigel</td>\n",
              "      <td>253800</td>\n",
              "      <td>0.632</td>\n",
              "      <td>0.893</td>\n",
              "      <td>7</td>\n",
              "      <td>-6.040</td>\n",
              "      <td>0.0455</td>\n",
              "      <td>0.0143</td>\n",
              "      <td>0.000005</td>\n",
              "      <td>0.0741</td>\n",
              "      <td>0.773</td>\n",
              "      <td>149.970</td>\n",
              "      <td>pop</td>\n",
              "      <td>We're only making plans for Nigel   We only wa...</td>\n",
              "    </tr>\n",
              "  </tbody>\n",
              "</table>\n",
              "<p>5720 rows × 15 columns</p>\n",
              "</div>\n",
              "    <div class=\"colab-df-buttons\">\n",
              "\n",
              "  <div class=\"colab-df-container\">\n",
              "    <button class=\"colab-df-convert\" onclick=\"convertToInteractive('df-b42d289f-4fce-4283-a3c3-c668b324b99e')\"\n",
              "            title=\"Convert this dataframe to an interactive table.\"\n",
              "            style=\"display:none;\">\n",
              "\n",
              "  <svg xmlns=\"http://www.w3.org/2000/svg\" height=\"24px\" viewBox=\"0 -960 960 960\">\n",
              "    <path d=\"M120-120v-720h720v720H120Zm60-500h600v-160H180v160Zm220 220h160v-160H400v160Zm0 220h160v-160H400v160ZM180-400h160v-160H180v160Zm440 0h160v-160H620v160ZM180-180h160v-160H180v160Zm440 0h160v-160H620v160Z\"/>\n",
              "  </svg>\n",
              "    </button>\n",
              "\n",
              "  <style>\n",
              "    .colab-df-container {\n",
              "      display:flex;\n",
              "      gap: 12px;\n",
              "    }\n",
              "\n",
              "    .colab-df-convert {\n",
              "      background-color: #E8F0FE;\n",
              "      border: none;\n",
              "      border-radius: 50%;\n",
              "      cursor: pointer;\n",
              "      display: none;\n",
              "      fill: #1967D2;\n",
              "      height: 32px;\n",
              "      padding: 0 0 0 0;\n",
              "      width: 32px;\n",
              "    }\n",
              "\n",
              "    .colab-df-convert:hover {\n",
              "      background-color: #E2EBFA;\n",
              "      box-shadow: 0px 1px 2px rgba(60, 64, 67, 0.3), 0px 1px 3px 1px rgba(60, 64, 67, 0.15);\n",
              "      fill: #174EA6;\n",
              "    }\n",
              "\n",
              "    .colab-df-buttons div {\n",
              "      margin-bottom: 4px;\n",
              "    }\n",
              "\n",
              "    [theme=dark] .colab-df-convert {\n",
              "      background-color: #3B4455;\n",
              "      fill: #D2E3FC;\n",
              "    }\n",
              "\n",
              "    [theme=dark] .colab-df-convert:hover {\n",
              "      background-color: #434B5C;\n",
              "      box-shadow: 0px 1px 3px 1px rgba(0, 0, 0, 0.15);\n",
              "      filter: drop-shadow(0px 1px 2px rgba(0, 0, 0, 0.3));\n",
              "      fill: #FFFFFF;\n",
              "    }\n",
              "  </style>\n",
              "\n",
              "    <script>\n",
              "      const buttonEl =\n",
              "        document.querySelector('#df-b42d289f-4fce-4283-a3c3-c668b324b99e button.colab-df-convert');\n",
              "      buttonEl.style.display =\n",
              "        google.colab.kernel.accessAllowed ? 'block' : 'none';\n",
              "\n",
              "      async function convertToInteractive(key) {\n",
              "        const element = document.querySelector('#df-b42d289f-4fce-4283-a3c3-c668b324b99e');\n",
              "        const dataTable =\n",
              "          await google.colab.kernel.invokeFunction('convertToInteractive',\n",
              "                                                    [key], {});\n",
              "        if (!dataTable) return;\n",
              "\n",
              "        const docLinkHtml = 'Like what you see? Visit the ' +\n",
              "          '<a target=\"_blank\" href=https://colab.research.google.com/notebooks/data_table.ipynb>data table notebook</a>'\n",
              "          + ' to learn more about interactive tables.';\n",
              "        element.innerHTML = '';\n",
              "        dataTable['output_type'] = 'display_data';\n",
              "        await google.colab.output.renderOutput(dataTable, element);\n",
              "        const docLink = document.createElement('div');\n",
              "        docLink.innerHTML = docLinkHtml;\n",
              "        element.appendChild(docLink);\n",
              "      }\n",
              "    </script>\n",
              "  </div>\n",
              "\n",
              "\n",
              "<div id=\"df-d5d504ce-3ef0-4254-a6f3-85e6b676ab21\">\n",
              "  <button class=\"colab-df-quickchart\" onclick=\"quickchart('df-d5d504ce-3ef0-4254-a6f3-85e6b676ab21')\"\n",
              "            title=\"Suggest charts\"\n",
              "            style=\"display:none;\">\n",
              "\n",
              "<svg xmlns=\"http://www.w3.org/2000/svg\" height=\"24px\"viewBox=\"0 0 24 24\"\n",
              "     width=\"24px\">\n",
              "    <g>\n",
              "        <path d=\"M19 3H5c-1.1 0-2 .9-2 2v14c0 1.1.9 2 2 2h14c1.1 0 2-.9 2-2V5c0-1.1-.9-2-2-2zM9 17H7v-7h2v7zm4 0h-2V7h2v10zm4 0h-2v-4h2v4z\"/>\n",
              "    </g>\n",
              "</svg>\n",
              "  </button>\n",
              "\n",
              "<style>\n",
              "  .colab-df-quickchart {\n",
              "      --bg-color: #E8F0FE;\n",
              "      --fill-color: #1967D2;\n",
              "      --hover-bg-color: #E2EBFA;\n",
              "      --hover-fill-color: #174EA6;\n",
              "      --disabled-fill-color: #AAA;\n",
              "      --disabled-bg-color: #DDD;\n",
              "  }\n",
              "\n",
              "  [theme=dark] .colab-df-quickchart {\n",
              "      --bg-color: #3B4455;\n",
              "      --fill-color: #D2E3FC;\n",
              "      --hover-bg-color: #434B5C;\n",
              "      --hover-fill-color: #FFFFFF;\n",
              "      --disabled-bg-color: #3B4455;\n",
              "      --disabled-fill-color: #666;\n",
              "  }\n",
              "\n",
              "  .colab-df-quickchart {\n",
              "    background-color: var(--bg-color);\n",
              "    border: none;\n",
              "    border-radius: 50%;\n",
              "    cursor: pointer;\n",
              "    display: none;\n",
              "    fill: var(--fill-color);\n",
              "    height: 32px;\n",
              "    padding: 0;\n",
              "    width: 32px;\n",
              "  }\n",
              "\n",
              "  .colab-df-quickchart:hover {\n",
              "    background-color: var(--hover-bg-color);\n",
              "    box-shadow: 0 1px 2px rgba(60, 64, 67, 0.3), 0 1px 3px 1px rgba(60, 64, 67, 0.15);\n",
              "    fill: var(--button-hover-fill-color);\n",
              "  }\n",
              "\n",
              "  .colab-df-quickchart-complete:disabled,\n",
              "  .colab-df-quickchart-complete:disabled:hover {\n",
              "    background-color: var(--disabled-bg-color);\n",
              "    fill: var(--disabled-fill-color);\n",
              "    box-shadow: none;\n",
              "  }\n",
              "\n",
              "  .colab-df-spinner {\n",
              "    border: 2px solid var(--fill-color);\n",
              "    border-color: transparent;\n",
              "    border-bottom-color: var(--fill-color);\n",
              "    animation:\n",
              "      spin 1s steps(1) infinite;\n",
              "  }\n",
              "\n",
              "  @keyframes spin {\n",
              "    0% {\n",
              "      border-color: transparent;\n",
              "      border-bottom-color: var(--fill-color);\n",
              "      border-left-color: var(--fill-color);\n",
              "    }\n",
              "    20% {\n",
              "      border-color: transparent;\n",
              "      border-left-color: var(--fill-color);\n",
              "      border-top-color: var(--fill-color);\n",
              "    }\n",
              "    30% {\n",
              "      border-color: transparent;\n",
              "      border-left-color: var(--fill-color);\n",
              "      border-top-color: var(--fill-color);\n",
              "      border-right-color: var(--fill-color);\n",
              "    }\n",
              "    40% {\n",
              "      border-color: transparent;\n",
              "      border-right-color: var(--fill-color);\n",
              "      border-top-color: var(--fill-color);\n",
              "    }\n",
              "    60% {\n",
              "      border-color: transparent;\n",
              "      border-right-color: var(--fill-color);\n",
              "    }\n",
              "    80% {\n",
              "      border-color: transparent;\n",
              "      border-right-color: var(--fill-color);\n",
              "      border-bottom-color: var(--fill-color);\n",
              "    }\n",
              "    90% {\n",
              "      border-color: transparent;\n",
              "      border-bottom-color: var(--fill-color);\n",
              "    }\n",
              "  }\n",
              "</style>\n",
              "\n",
              "  <script>\n",
              "    async function quickchart(key) {\n",
              "      const quickchartButtonEl =\n",
              "        document.querySelector('#' + key + ' button');\n",
              "      quickchartButtonEl.disabled = true;  // To prevent multiple clicks.\n",
              "      quickchartButtonEl.classList.add('colab-df-spinner');\n",
              "      try {\n",
              "        const charts = await google.colab.kernel.invokeFunction(\n",
              "            'suggestCharts', [key], {});\n",
              "      } catch (error) {\n",
              "        console.error('Error during call to suggestCharts:', error);\n",
              "      }\n",
              "      quickchartButtonEl.classList.remove('colab-df-spinner');\n",
              "      quickchartButtonEl.classList.add('colab-df-quickchart-complete');\n",
              "    }\n",
              "    (() => {\n",
              "      let quickchartButtonEl =\n",
              "        document.querySelector('#df-d5d504ce-3ef0-4254-a6f3-85e6b676ab21 button');\n",
              "      quickchartButtonEl.style.display =\n",
              "        google.colab.kernel.accessAllowed ? 'block' : 'none';\n",
              "    })();\n",
              "  </script>\n",
              "</div>\n",
              "    </div>\n",
              "  </div>\n"
            ]
          },
          "metadata": {},
          "execution_count": 91
        }
      ],
      "source": [
        "def clean_text(t: str):\n",
        "    return t.replace('\\r\\n', ' ').strip()\n",
        "\n",
        "verse_data = pruned.copy()\n",
        "verse_data['new_text'] = verse_data['text'].str.split('\\r\\n  \\r\\n')\n",
        "verse_data = verse_data.drop(['text'], axis=1).explode('new_text').rename(columns={'new_text': 'text'})\n",
        "verse_data['text'] = verse_data['text'].apply(clean_text)\n",
        "verse_data"
      ],
      "metadata": {
        "ExecuteTime": {
          "end_time": "2023-11-16T07:29:29.280185700Z",
          "start_time": "2023-11-16T07:29:29.166219300Z"
        },
        "colab": {
          "base_uri": "https://localhost:8080/",
          "height": 1000
        },
        "id": "34a56f68bff92d3",
        "outputId": "ad0e33b8-e011-4126-e7b5-dc43d31f4e29"
      },
      "id": "34a56f68bff92d3"
    },
    {
      "cell_type": "markdown",
      "source": [
        "I expected more"
      ],
      "metadata": {
        "collapsed": false,
        "id": "7b8bd61e5b795d47"
      },
      "id": "7b8bd61e5b795d47"
    },
    {
      "cell_type": "code",
      "execution_count": null,
      "outputs": [
        {
          "output_type": "execute_result",
          "data": {
            "text/plain": [
              "     label                                               text\n",
              "0      pop  Take it easy with me, please   Touch me gently...\n",
              "0      pop  Make your fingers soft and light   Let your bo...\n",
              "0      pop  I'm your music   (I am your music and I am you...\n",
              "0      pop  There's a shimmer in your eyes   Like the feel...\n",
              "0      pop  I'm your music   (I am your music and I am you...\n",
              "...    ...                                                ...\n",
              "1124  rock  Stand my ground   I won't give in   No more de...\n",
              "1124  rock  All I know for sure is that I'm trying   I wil...\n",
              "1124  rock  Stand my ground   I won't give in, (I won't gi...\n",
              "1124  rock  Stand my ground   I won't give in   No more de...\n",
              "1125   pop  We're only making plans for Nigel   We only wa...\n",
              "\n",
              "[5720 rows x 2 columns]"
            ],
            "text/html": [
              "\n",
              "  <div id=\"df-15599f91-28ff-45c7-b91b-f75333fd9e9b\" class=\"colab-df-container\">\n",
              "    <div>\n",
              "<style scoped>\n",
              "    .dataframe tbody tr th:only-of-type {\n",
              "        vertical-align: middle;\n",
              "    }\n",
              "\n",
              "    .dataframe tbody tr th {\n",
              "        vertical-align: top;\n",
              "    }\n",
              "\n",
              "    .dataframe thead th {\n",
              "        text-align: right;\n",
              "    }\n",
              "</style>\n",
              "<table border=\"1\" class=\"dataframe\">\n",
              "  <thead>\n",
              "    <tr style=\"text-align: right;\">\n",
              "      <th></th>\n",
              "      <th>label</th>\n",
              "      <th>text</th>\n",
              "    </tr>\n",
              "  </thead>\n",
              "  <tbody>\n",
              "    <tr>\n",
              "      <th>0</th>\n",
              "      <td>pop</td>\n",
              "      <td>Take it easy with me, please   Touch me gently...</td>\n",
              "    </tr>\n",
              "    <tr>\n",
              "      <th>0</th>\n",
              "      <td>pop</td>\n",
              "      <td>Make your fingers soft and light   Let your bo...</td>\n",
              "    </tr>\n",
              "    <tr>\n",
              "      <th>0</th>\n",
              "      <td>pop</td>\n",
              "      <td>I'm your music   (I am your music and I am you...</td>\n",
              "    </tr>\n",
              "    <tr>\n",
              "      <th>0</th>\n",
              "      <td>pop</td>\n",
              "      <td>There's a shimmer in your eyes   Like the feel...</td>\n",
              "    </tr>\n",
              "    <tr>\n",
              "      <th>0</th>\n",
              "      <td>pop</td>\n",
              "      <td>I'm your music   (I am your music and I am you...</td>\n",
              "    </tr>\n",
              "    <tr>\n",
              "      <th>...</th>\n",
              "      <td>...</td>\n",
              "      <td>...</td>\n",
              "    </tr>\n",
              "    <tr>\n",
              "      <th>1124</th>\n",
              "      <td>rock</td>\n",
              "      <td>Stand my ground   I won't give in   No more de...</td>\n",
              "    </tr>\n",
              "    <tr>\n",
              "      <th>1124</th>\n",
              "      <td>rock</td>\n",
              "      <td>All I know for sure is that I'm trying   I wil...</td>\n",
              "    </tr>\n",
              "    <tr>\n",
              "      <th>1124</th>\n",
              "      <td>rock</td>\n",
              "      <td>Stand my ground   I won't give in, (I won't gi...</td>\n",
              "    </tr>\n",
              "    <tr>\n",
              "      <th>1124</th>\n",
              "      <td>rock</td>\n",
              "      <td>Stand my ground   I won't give in   No more de...</td>\n",
              "    </tr>\n",
              "    <tr>\n",
              "      <th>1125</th>\n",
              "      <td>pop</td>\n",
              "      <td>We're only making plans for Nigel   We only wa...</td>\n",
              "    </tr>\n",
              "  </tbody>\n",
              "</table>\n",
              "<p>5720 rows × 2 columns</p>\n",
              "</div>\n",
              "    <div class=\"colab-df-buttons\">\n",
              "\n",
              "  <div class=\"colab-df-container\">\n",
              "    <button class=\"colab-df-convert\" onclick=\"convertToInteractive('df-15599f91-28ff-45c7-b91b-f75333fd9e9b')\"\n",
              "            title=\"Convert this dataframe to an interactive table.\"\n",
              "            style=\"display:none;\">\n",
              "\n",
              "  <svg xmlns=\"http://www.w3.org/2000/svg\" height=\"24px\" viewBox=\"0 -960 960 960\">\n",
              "    <path d=\"M120-120v-720h720v720H120Zm60-500h600v-160H180v160Zm220 220h160v-160H400v160Zm0 220h160v-160H400v160ZM180-400h160v-160H180v160Zm440 0h160v-160H620v160ZM180-180h160v-160H180v160Zm440 0h160v-160H620v160Z\"/>\n",
              "  </svg>\n",
              "    </button>\n",
              "\n",
              "  <style>\n",
              "    .colab-df-container {\n",
              "      display:flex;\n",
              "      gap: 12px;\n",
              "    }\n",
              "\n",
              "    .colab-df-convert {\n",
              "      background-color: #E8F0FE;\n",
              "      border: none;\n",
              "      border-radius: 50%;\n",
              "      cursor: pointer;\n",
              "      display: none;\n",
              "      fill: #1967D2;\n",
              "      height: 32px;\n",
              "      padding: 0 0 0 0;\n",
              "      width: 32px;\n",
              "    }\n",
              "\n",
              "    .colab-df-convert:hover {\n",
              "      background-color: #E2EBFA;\n",
              "      box-shadow: 0px 1px 2px rgba(60, 64, 67, 0.3), 0px 1px 3px 1px rgba(60, 64, 67, 0.15);\n",
              "      fill: #174EA6;\n",
              "    }\n",
              "\n",
              "    .colab-df-buttons div {\n",
              "      margin-bottom: 4px;\n",
              "    }\n",
              "\n",
              "    [theme=dark] .colab-df-convert {\n",
              "      background-color: #3B4455;\n",
              "      fill: #D2E3FC;\n",
              "    }\n",
              "\n",
              "    [theme=dark] .colab-df-convert:hover {\n",
              "      background-color: #434B5C;\n",
              "      box-shadow: 0px 1px 3px 1px rgba(0, 0, 0, 0.15);\n",
              "      filter: drop-shadow(0px 1px 2px rgba(0, 0, 0, 0.3));\n",
              "      fill: #FFFFFF;\n",
              "    }\n",
              "  </style>\n",
              "\n",
              "    <script>\n",
              "      const buttonEl =\n",
              "        document.querySelector('#df-15599f91-28ff-45c7-b91b-f75333fd9e9b button.colab-df-convert');\n",
              "      buttonEl.style.display =\n",
              "        google.colab.kernel.accessAllowed ? 'block' : 'none';\n",
              "\n",
              "      async function convertToInteractive(key) {\n",
              "        const element = document.querySelector('#df-15599f91-28ff-45c7-b91b-f75333fd9e9b');\n",
              "        const dataTable =\n",
              "          await google.colab.kernel.invokeFunction('convertToInteractive',\n",
              "                                                    [key], {});\n",
              "        if (!dataTable) return;\n",
              "\n",
              "        const docLinkHtml = 'Like what you see? Visit the ' +\n",
              "          '<a target=\"_blank\" href=https://colab.research.google.com/notebooks/data_table.ipynb>data table notebook</a>'\n",
              "          + ' to learn more about interactive tables.';\n",
              "        element.innerHTML = '';\n",
              "        dataTable['output_type'] = 'display_data';\n",
              "        await google.colab.output.renderOutput(dataTable, element);\n",
              "        const docLink = document.createElement('div');\n",
              "        docLink.innerHTML = docLinkHtml;\n",
              "        element.appendChild(docLink);\n",
              "      }\n",
              "    </script>\n",
              "  </div>\n",
              "\n",
              "\n",
              "<div id=\"df-e38582e5-3053-4210-b309-e2027ef8355c\">\n",
              "  <button class=\"colab-df-quickchart\" onclick=\"quickchart('df-e38582e5-3053-4210-b309-e2027ef8355c')\"\n",
              "            title=\"Suggest charts\"\n",
              "            style=\"display:none;\">\n",
              "\n",
              "<svg xmlns=\"http://www.w3.org/2000/svg\" height=\"24px\"viewBox=\"0 0 24 24\"\n",
              "     width=\"24px\">\n",
              "    <g>\n",
              "        <path d=\"M19 3H5c-1.1 0-2 .9-2 2v14c0 1.1.9 2 2 2h14c1.1 0 2-.9 2-2V5c0-1.1-.9-2-2-2zM9 17H7v-7h2v7zm4 0h-2V7h2v10zm4 0h-2v-4h2v4z\"/>\n",
              "    </g>\n",
              "</svg>\n",
              "  </button>\n",
              "\n",
              "<style>\n",
              "  .colab-df-quickchart {\n",
              "      --bg-color: #E8F0FE;\n",
              "      --fill-color: #1967D2;\n",
              "      --hover-bg-color: #E2EBFA;\n",
              "      --hover-fill-color: #174EA6;\n",
              "      --disabled-fill-color: #AAA;\n",
              "      --disabled-bg-color: #DDD;\n",
              "  }\n",
              "\n",
              "  [theme=dark] .colab-df-quickchart {\n",
              "      --bg-color: #3B4455;\n",
              "      --fill-color: #D2E3FC;\n",
              "      --hover-bg-color: #434B5C;\n",
              "      --hover-fill-color: #FFFFFF;\n",
              "      --disabled-bg-color: #3B4455;\n",
              "      --disabled-fill-color: #666;\n",
              "  }\n",
              "\n",
              "  .colab-df-quickchart {\n",
              "    background-color: var(--bg-color);\n",
              "    border: none;\n",
              "    border-radius: 50%;\n",
              "    cursor: pointer;\n",
              "    display: none;\n",
              "    fill: var(--fill-color);\n",
              "    height: 32px;\n",
              "    padding: 0;\n",
              "    width: 32px;\n",
              "  }\n",
              "\n",
              "  .colab-df-quickchart:hover {\n",
              "    background-color: var(--hover-bg-color);\n",
              "    box-shadow: 0 1px 2px rgba(60, 64, 67, 0.3), 0 1px 3px 1px rgba(60, 64, 67, 0.15);\n",
              "    fill: var(--button-hover-fill-color);\n",
              "  }\n",
              "\n",
              "  .colab-df-quickchart-complete:disabled,\n",
              "  .colab-df-quickchart-complete:disabled:hover {\n",
              "    background-color: var(--disabled-bg-color);\n",
              "    fill: var(--disabled-fill-color);\n",
              "    box-shadow: none;\n",
              "  }\n",
              "\n",
              "  .colab-df-spinner {\n",
              "    border: 2px solid var(--fill-color);\n",
              "    border-color: transparent;\n",
              "    border-bottom-color: var(--fill-color);\n",
              "    animation:\n",
              "      spin 1s steps(1) infinite;\n",
              "  }\n",
              "\n",
              "  @keyframes spin {\n",
              "    0% {\n",
              "      border-color: transparent;\n",
              "      border-bottom-color: var(--fill-color);\n",
              "      border-left-color: var(--fill-color);\n",
              "    }\n",
              "    20% {\n",
              "      border-color: transparent;\n",
              "      border-left-color: var(--fill-color);\n",
              "      border-top-color: var(--fill-color);\n",
              "    }\n",
              "    30% {\n",
              "      border-color: transparent;\n",
              "      border-left-color: var(--fill-color);\n",
              "      border-top-color: var(--fill-color);\n",
              "      border-right-color: var(--fill-color);\n",
              "    }\n",
              "    40% {\n",
              "      border-color: transparent;\n",
              "      border-right-color: var(--fill-color);\n",
              "      border-top-color: var(--fill-color);\n",
              "    }\n",
              "    60% {\n",
              "      border-color: transparent;\n",
              "      border-right-color: var(--fill-color);\n",
              "    }\n",
              "    80% {\n",
              "      border-color: transparent;\n",
              "      border-right-color: var(--fill-color);\n",
              "      border-bottom-color: var(--fill-color);\n",
              "    }\n",
              "    90% {\n",
              "      border-color: transparent;\n",
              "      border-bottom-color: var(--fill-color);\n",
              "    }\n",
              "  }\n",
              "</style>\n",
              "\n",
              "  <script>\n",
              "    async function quickchart(key) {\n",
              "      const quickchartButtonEl =\n",
              "        document.querySelector('#' + key + ' button');\n",
              "      quickchartButtonEl.disabled = true;  // To prevent multiple clicks.\n",
              "      quickchartButtonEl.classList.add('colab-df-spinner');\n",
              "      try {\n",
              "        const charts = await google.colab.kernel.invokeFunction(\n",
              "            'suggestCharts', [key], {});\n",
              "      } catch (error) {\n",
              "        console.error('Error during call to suggestCharts:', error);\n",
              "      }\n",
              "      quickchartButtonEl.classList.remove('colab-df-spinner');\n",
              "      quickchartButtonEl.classList.add('colab-df-quickchart-complete');\n",
              "    }\n",
              "    (() => {\n",
              "      let quickchartButtonEl =\n",
              "        document.querySelector('#df-e38582e5-3053-4210-b309-e2027ef8355c button');\n",
              "      quickchartButtonEl.style.display =\n",
              "        google.colab.kernel.accessAllowed ? 'block' : 'none';\n",
              "    })();\n",
              "  </script>\n",
              "</div>\n",
              "    </div>\n",
              "  </div>\n"
            ]
          },
          "metadata": {},
          "execution_count": 92
        }
      ],
      "source": [
        "stripped = verse_data[['track_genre', 'text']].rename(columns={'track_genre': 'label'})\n",
        "stripped"
      ],
      "metadata": {
        "ExecuteTime": {
          "end_time": "2023-11-16T07:29:29.284186600Z",
          "start_time": "2023-11-16T07:29:29.197673400Z"
        },
        "colab": {
          "base_uri": "https://localhost:8080/",
          "height": 423
        },
        "id": "201f2e2537ab6959",
        "outputId": "80852c78-63ec-4805-d82d-50df2994256c"
      },
      "id": "201f2e2537ab6959"
    },
    {
      "cell_type": "markdown",
      "source": [
        "Create ID mappings"
      ],
      "metadata": {
        "id": "zzeqmM6bjt_L"
      },
      "id": "zzeqmM6bjt_L"
    },
    {
      "cell_type": "code",
      "source": [
        "label2id = {k: v for v, k in enumerate(stripped['label'].unique())}\n",
        "id2label = {v: k for k, v in label2id.items()}\n",
        "print(id2label)\n",
        "print(label2id)"
      ],
      "metadata": {
        "colab": {
          "base_uri": "https://localhost:8080/"
        },
        "id": "3vFi0WdSjwKx",
        "outputId": "42a8830c-5f0f-4917-a049-5941a335cc38"
      },
      "id": "3vFi0WdSjwKx",
      "execution_count": null,
      "outputs": [
        {
          "output_type": "stream",
          "name": "stdout",
          "text": [
            "{0: 'pop', 1: 'rock', 2: 'metal', 3: 'blues', 4: 'country'}\n",
            "{'pop': 0, 'rock': 1, 'metal': 2, 'blues': 3, 'country': 4}\n"
          ]
        }
      ]
    },
    {
      "cell_type": "code",
      "source": [
        "def map_to_id(genre):\n",
        "  return label2id[genre]\n",
        "\n",
        "stripped_with_id = stripped.copy()\n",
        "stripped_with_id['label'] = stripped_with_id['label'].apply(map_to_id)\n",
        "stripped_with_id"
      ],
      "metadata": {
        "colab": {
          "base_uri": "https://localhost:8080/",
          "height": 423
        },
        "id": "ye_efXIWjzHo",
        "outputId": "9ae19f55-ef59-4bab-855b-19d568498ad5"
      },
      "id": "ye_efXIWjzHo",
      "execution_count": null,
      "outputs": [
        {
          "output_type": "execute_result",
          "data": {
            "text/plain": [
              "      label                                               text\n",
              "0         0  Take it easy with me, please   Touch me gently...\n",
              "0         0  Make your fingers soft and light   Let your bo...\n",
              "0         0  I'm your music   (I am your music and I am you...\n",
              "0         0  There's a shimmer in your eyes   Like the feel...\n",
              "0         0  I'm your music   (I am your music and I am you...\n",
              "...     ...                                                ...\n",
              "1124      1  Stand my ground   I won't give in   No more de...\n",
              "1124      1  All I know for sure is that I'm trying   I wil...\n",
              "1124      1  Stand my ground   I won't give in, (I won't gi...\n",
              "1124      1  Stand my ground   I won't give in   No more de...\n",
              "1125      0  We're only making plans for Nigel   We only wa...\n",
              "\n",
              "[5720 rows x 2 columns]"
            ],
            "text/html": [
              "\n",
              "  <div id=\"df-8fe73377-68e6-4f95-9512-d5dc61f3a553\" class=\"colab-df-container\">\n",
              "    <div>\n",
              "<style scoped>\n",
              "    .dataframe tbody tr th:only-of-type {\n",
              "        vertical-align: middle;\n",
              "    }\n",
              "\n",
              "    .dataframe tbody tr th {\n",
              "        vertical-align: top;\n",
              "    }\n",
              "\n",
              "    .dataframe thead th {\n",
              "        text-align: right;\n",
              "    }\n",
              "</style>\n",
              "<table border=\"1\" class=\"dataframe\">\n",
              "  <thead>\n",
              "    <tr style=\"text-align: right;\">\n",
              "      <th></th>\n",
              "      <th>label</th>\n",
              "      <th>text</th>\n",
              "    </tr>\n",
              "  </thead>\n",
              "  <tbody>\n",
              "    <tr>\n",
              "      <th>0</th>\n",
              "      <td>0</td>\n",
              "      <td>Take it easy with me, please   Touch me gently...</td>\n",
              "    </tr>\n",
              "    <tr>\n",
              "      <th>0</th>\n",
              "      <td>0</td>\n",
              "      <td>Make your fingers soft and light   Let your bo...</td>\n",
              "    </tr>\n",
              "    <tr>\n",
              "      <th>0</th>\n",
              "      <td>0</td>\n",
              "      <td>I'm your music   (I am your music and I am you...</td>\n",
              "    </tr>\n",
              "    <tr>\n",
              "      <th>0</th>\n",
              "      <td>0</td>\n",
              "      <td>There's a shimmer in your eyes   Like the feel...</td>\n",
              "    </tr>\n",
              "    <tr>\n",
              "      <th>0</th>\n",
              "      <td>0</td>\n",
              "      <td>I'm your music   (I am your music and I am you...</td>\n",
              "    </tr>\n",
              "    <tr>\n",
              "      <th>...</th>\n",
              "      <td>...</td>\n",
              "      <td>...</td>\n",
              "    </tr>\n",
              "    <tr>\n",
              "      <th>1124</th>\n",
              "      <td>1</td>\n",
              "      <td>Stand my ground   I won't give in   No more de...</td>\n",
              "    </tr>\n",
              "    <tr>\n",
              "      <th>1124</th>\n",
              "      <td>1</td>\n",
              "      <td>All I know for sure is that I'm trying   I wil...</td>\n",
              "    </tr>\n",
              "    <tr>\n",
              "      <th>1124</th>\n",
              "      <td>1</td>\n",
              "      <td>Stand my ground   I won't give in, (I won't gi...</td>\n",
              "    </tr>\n",
              "    <tr>\n",
              "      <th>1124</th>\n",
              "      <td>1</td>\n",
              "      <td>Stand my ground   I won't give in   No more de...</td>\n",
              "    </tr>\n",
              "    <tr>\n",
              "      <th>1125</th>\n",
              "      <td>0</td>\n",
              "      <td>We're only making plans for Nigel   We only wa...</td>\n",
              "    </tr>\n",
              "  </tbody>\n",
              "</table>\n",
              "<p>5720 rows × 2 columns</p>\n",
              "</div>\n",
              "    <div class=\"colab-df-buttons\">\n",
              "\n",
              "  <div class=\"colab-df-container\">\n",
              "    <button class=\"colab-df-convert\" onclick=\"convertToInteractive('df-8fe73377-68e6-4f95-9512-d5dc61f3a553')\"\n",
              "            title=\"Convert this dataframe to an interactive table.\"\n",
              "            style=\"display:none;\">\n",
              "\n",
              "  <svg xmlns=\"http://www.w3.org/2000/svg\" height=\"24px\" viewBox=\"0 -960 960 960\">\n",
              "    <path d=\"M120-120v-720h720v720H120Zm60-500h600v-160H180v160Zm220 220h160v-160H400v160Zm0 220h160v-160H400v160ZM180-400h160v-160H180v160Zm440 0h160v-160H620v160ZM180-180h160v-160H180v160Zm440 0h160v-160H620v160Z\"/>\n",
              "  </svg>\n",
              "    </button>\n",
              "\n",
              "  <style>\n",
              "    .colab-df-container {\n",
              "      display:flex;\n",
              "      gap: 12px;\n",
              "    }\n",
              "\n",
              "    .colab-df-convert {\n",
              "      background-color: #E8F0FE;\n",
              "      border: none;\n",
              "      border-radius: 50%;\n",
              "      cursor: pointer;\n",
              "      display: none;\n",
              "      fill: #1967D2;\n",
              "      height: 32px;\n",
              "      padding: 0 0 0 0;\n",
              "      width: 32px;\n",
              "    }\n",
              "\n",
              "    .colab-df-convert:hover {\n",
              "      background-color: #E2EBFA;\n",
              "      box-shadow: 0px 1px 2px rgba(60, 64, 67, 0.3), 0px 1px 3px 1px rgba(60, 64, 67, 0.15);\n",
              "      fill: #174EA6;\n",
              "    }\n",
              "\n",
              "    .colab-df-buttons div {\n",
              "      margin-bottom: 4px;\n",
              "    }\n",
              "\n",
              "    [theme=dark] .colab-df-convert {\n",
              "      background-color: #3B4455;\n",
              "      fill: #D2E3FC;\n",
              "    }\n",
              "\n",
              "    [theme=dark] .colab-df-convert:hover {\n",
              "      background-color: #434B5C;\n",
              "      box-shadow: 0px 1px 3px 1px rgba(0, 0, 0, 0.15);\n",
              "      filter: drop-shadow(0px 1px 2px rgba(0, 0, 0, 0.3));\n",
              "      fill: #FFFFFF;\n",
              "    }\n",
              "  </style>\n",
              "\n",
              "    <script>\n",
              "      const buttonEl =\n",
              "        document.querySelector('#df-8fe73377-68e6-4f95-9512-d5dc61f3a553 button.colab-df-convert');\n",
              "      buttonEl.style.display =\n",
              "        google.colab.kernel.accessAllowed ? 'block' : 'none';\n",
              "\n",
              "      async function convertToInteractive(key) {\n",
              "        const element = document.querySelector('#df-8fe73377-68e6-4f95-9512-d5dc61f3a553');\n",
              "        const dataTable =\n",
              "          await google.colab.kernel.invokeFunction('convertToInteractive',\n",
              "                                                    [key], {});\n",
              "        if (!dataTable) return;\n",
              "\n",
              "        const docLinkHtml = 'Like what you see? Visit the ' +\n",
              "          '<a target=\"_blank\" href=https://colab.research.google.com/notebooks/data_table.ipynb>data table notebook</a>'\n",
              "          + ' to learn more about interactive tables.';\n",
              "        element.innerHTML = '';\n",
              "        dataTable['output_type'] = 'display_data';\n",
              "        await google.colab.output.renderOutput(dataTable, element);\n",
              "        const docLink = document.createElement('div');\n",
              "        docLink.innerHTML = docLinkHtml;\n",
              "        element.appendChild(docLink);\n",
              "      }\n",
              "    </script>\n",
              "  </div>\n",
              "\n",
              "\n",
              "<div id=\"df-0da6fc85-931b-4bf2-8b9f-9f74d7436c00\">\n",
              "  <button class=\"colab-df-quickchart\" onclick=\"quickchart('df-0da6fc85-931b-4bf2-8b9f-9f74d7436c00')\"\n",
              "            title=\"Suggest charts\"\n",
              "            style=\"display:none;\">\n",
              "\n",
              "<svg xmlns=\"http://www.w3.org/2000/svg\" height=\"24px\"viewBox=\"0 0 24 24\"\n",
              "     width=\"24px\">\n",
              "    <g>\n",
              "        <path d=\"M19 3H5c-1.1 0-2 .9-2 2v14c0 1.1.9 2 2 2h14c1.1 0 2-.9 2-2V5c0-1.1-.9-2-2-2zM9 17H7v-7h2v7zm4 0h-2V7h2v10zm4 0h-2v-4h2v4z\"/>\n",
              "    </g>\n",
              "</svg>\n",
              "  </button>\n",
              "\n",
              "<style>\n",
              "  .colab-df-quickchart {\n",
              "      --bg-color: #E8F0FE;\n",
              "      --fill-color: #1967D2;\n",
              "      --hover-bg-color: #E2EBFA;\n",
              "      --hover-fill-color: #174EA6;\n",
              "      --disabled-fill-color: #AAA;\n",
              "      --disabled-bg-color: #DDD;\n",
              "  }\n",
              "\n",
              "  [theme=dark] .colab-df-quickchart {\n",
              "      --bg-color: #3B4455;\n",
              "      --fill-color: #D2E3FC;\n",
              "      --hover-bg-color: #434B5C;\n",
              "      --hover-fill-color: #FFFFFF;\n",
              "      --disabled-bg-color: #3B4455;\n",
              "      --disabled-fill-color: #666;\n",
              "  }\n",
              "\n",
              "  .colab-df-quickchart {\n",
              "    background-color: var(--bg-color);\n",
              "    border: none;\n",
              "    border-radius: 50%;\n",
              "    cursor: pointer;\n",
              "    display: none;\n",
              "    fill: var(--fill-color);\n",
              "    height: 32px;\n",
              "    padding: 0;\n",
              "    width: 32px;\n",
              "  }\n",
              "\n",
              "  .colab-df-quickchart:hover {\n",
              "    background-color: var(--hover-bg-color);\n",
              "    box-shadow: 0 1px 2px rgba(60, 64, 67, 0.3), 0 1px 3px 1px rgba(60, 64, 67, 0.15);\n",
              "    fill: var(--button-hover-fill-color);\n",
              "  }\n",
              "\n",
              "  .colab-df-quickchart-complete:disabled,\n",
              "  .colab-df-quickchart-complete:disabled:hover {\n",
              "    background-color: var(--disabled-bg-color);\n",
              "    fill: var(--disabled-fill-color);\n",
              "    box-shadow: none;\n",
              "  }\n",
              "\n",
              "  .colab-df-spinner {\n",
              "    border: 2px solid var(--fill-color);\n",
              "    border-color: transparent;\n",
              "    border-bottom-color: var(--fill-color);\n",
              "    animation:\n",
              "      spin 1s steps(1) infinite;\n",
              "  }\n",
              "\n",
              "  @keyframes spin {\n",
              "    0% {\n",
              "      border-color: transparent;\n",
              "      border-bottom-color: var(--fill-color);\n",
              "      border-left-color: var(--fill-color);\n",
              "    }\n",
              "    20% {\n",
              "      border-color: transparent;\n",
              "      border-left-color: var(--fill-color);\n",
              "      border-top-color: var(--fill-color);\n",
              "    }\n",
              "    30% {\n",
              "      border-color: transparent;\n",
              "      border-left-color: var(--fill-color);\n",
              "      border-top-color: var(--fill-color);\n",
              "      border-right-color: var(--fill-color);\n",
              "    }\n",
              "    40% {\n",
              "      border-color: transparent;\n",
              "      border-right-color: var(--fill-color);\n",
              "      border-top-color: var(--fill-color);\n",
              "    }\n",
              "    60% {\n",
              "      border-color: transparent;\n",
              "      border-right-color: var(--fill-color);\n",
              "    }\n",
              "    80% {\n",
              "      border-color: transparent;\n",
              "      border-right-color: var(--fill-color);\n",
              "      border-bottom-color: var(--fill-color);\n",
              "    }\n",
              "    90% {\n",
              "      border-color: transparent;\n",
              "      border-bottom-color: var(--fill-color);\n",
              "    }\n",
              "  }\n",
              "</style>\n",
              "\n",
              "  <script>\n",
              "    async function quickchart(key) {\n",
              "      const quickchartButtonEl =\n",
              "        document.querySelector('#' + key + ' button');\n",
              "      quickchartButtonEl.disabled = true;  // To prevent multiple clicks.\n",
              "      quickchartButtonEl.classList.add('colab-df-spinner');\n",
              "      try {\n",
              "        const charts = await google.colab.kernel.invokeFunction(\n",
              "            'suggestCharts', [key], {});\n",
              "      } catch (error) {\n",
              "        console.error('Error during call to suggestCharts:', error);\n",
              "      }\n",
              "      quickchartButtonEl.classList.remove('colab-df-spinner');\n",
              "      quickchartButtonEl.classList.add('colab-df-quickchart-complete');\n",
              "    }\n",
              "    (() => {\n",
              "      let quickchartButtonEl =\n",
              "        document.querySelector('#df-0da6fc85-931b-4bf2-8b9f-9f74d7436c00 button');\n",
              "      quickchartButtonEl.style.display =\n",
              "        google.colab.kernel.accessAllowed ? 'block' : 'none';\n",
              "    })();\n",
              "  </script>\n",
              "</div>\n",
              "    </div>\n",
              "  </div>\n"
            ]
          },
          "metadata": {},
          "execution_count": 133
        }
      ]
    },
    {
      "cell_type": "markdown",
      "source": [
        "# Model"
      ],
      "metadata": {
        "collapsed": false,
        "id": "50451743cc640d9a"
      },
      "id": "50451743cc640d9a"
    },
    {
      "cell_type": "code",
      "execution_count": null,
      "outputs": [],
      "source": [
        "tokenizer = DistilBertTokenizer.from_pretrained('distilbert-base-uncased')"
      ],
      "metadata": {
        "ExecuteTime": {
          "end_time": "2023-11-16T07:29:30.978241600Z",
          "start_time": "2023-11-16T07:29:29.213669800Z"
        },
        "id": "16ca6bc66fa7b443"
      },
      "id": "16ca6bc66fa7b443"
    },
    {
      "cell_type": "code",
      "source": [
        "def preprocess(data):\n",
        "  return tokenizer(data['text'], truncation=True, padding=True, max_length=50)"
      ],
      "metadata": {
        "id": "CsUgR_yrG6YP"
      },
      "id": "CsUgR_yrG6YP",
      "execution_count": null,
      "outputs": []
    },
    {
      "cell_type": "code",
      "source": [
        "dataset = Dataset.from_pandas(stripped_with_id)\n",
        "tokenized = dataset.map(preprocess, batched=True)"
      ],
      "metadata": {
        "colab": {
          "base_uri": "https://localhost:8080/",
          "height": 67,
          "referenced_widgets": [
            "b6d83f4883db44a4adfdc93f449c45cf",
            "096a1fa4d8e14f87a0141220e40ce78f",
            "6f61ec58feef450f987ed6bae1fe0189",
            "41fd9ecdffae40c6b89a3cccb2b99bb4",
            "235b8af2be60476a9b8cc7c7aba48e3a",
            "faa01ff7d5434656a0666de74824d4c0",
            "30479c0bc33c4969a1cef4a507ec8687",
            "677ba2a4a95840078a24dd930c7451c1",
            "50c713cd439a4126aa5fb6df9b6b4765",
            "65bb82df33cc4799aef572b30cd67265",
            "628673bcffe64c7caf02cc38e8c711c5"
          ]
        },
        "id": "U5Ed3HcMHHlk",
        "outputId": "2b312473-1014-4f52-c286-45f4da2550c4"
      },
      "id": "U5Ed3HcMHHlk",
      "execution_count": null,
      "outputs": [
        {
          "output_type": "stream",
          "name": "stdout",
          "text": [
            "{'label': Value(dtype='int64', id=None), 'text': Value(dtype='string', id=None), '__index_level_0__': Value(dtype='int64', id=None)}\n"
          ]
        },
        {
          "output_type": "display_data",
          "data": {
            "text/plain": [
              "Map:   0%|          | 0/5720 [00:00<?, ? examples/s]"
            ],
            "application/vnd.jupyter.widget-view+json": {
              "version_major": 2,
              "version_minor": 0,
              "model_id": "b6d83f4883db44a4adfdc93f449c45cf"
            }
          },
          "metadata": {}
        }
      ]
    },
    {
      "cell_type": "markdown",
      "source": [
        "split data into train and test datasets"
      ],
      "metadata": {
        "id": "fcau433dPEE_"
      },
      "id": "fcau433dPEE_"
    },
    {
      "cell_type": "code",
      "source": [
        "split = tokenized.train_test_split(test_size=0.2)\n",
        "split"
      ],
      "metadata": {
        "colab": {
          "base_uri": "https://localhost:8080/"
        },
        "id": "mfVFKdcUPDbo",
        "outputId": "d63ca3c4-bd4e-421c-eccb-b35a1b81f042"
      },
      "id": "mfVFKdcUPDbo",
      "execution_count": null,
      "outputs": [
        {
          "output_type": "execute_result",
          "data": {
            "text/plain": [
              "DatasetDict({\n",
              "    train: Dataset({\n",
              "        features: ['label', 'text', '__index_level_0__', 'input_ids', 'attention_mask'],\n",
              "        num_rows: 4576\n",
              "    })\n",
              "    test: Dataset({\n",
              "        features: ['label', 'text', '__index_level_0__', 'input_ids', 'attention_mask'],\n",
              "        num_rows: 1144\n",
              "    })\n",
              "})"
            ]
          },
          "metadata": {},
          "execution_count": 101
        }
      ]
    },
    {
      "cell_type": "markdown",
      "source": [
        "Accuracy metrics"
      ],
      "metadata": {
        "id": "RDI4Ni0lJFsx"
      },
      "id": "RDI4Ni0lJFsx"
    },
    {
      "cell_type": "code",
      "source": [
        "accuracy = evaluate.load('accuracy')"
      ],
      "metadata": {
        "id": "l5nZWBdRJG8A"
      },
      "id": "l5nZWBdRJG8A",
      "execution_count": null,
      "outputs": []
    },
    {
      "cell_type": "code",
      "source": [
        "def compute_metrics(eval):\n",
        "  predictions, labels = eval\n",
        "  predictions = np.argmax(predictions, axis=1)\n",
        "  return accuracy.compute(predictions=predictions, references=labels)"
      ],
      "metadata": {
        "id": "R6ax-F9XJMik"
      },
      "id": "R6ax-F9XJMik",
      "execution_count": null,
      "outputs": []
    },
    {
      "cell_type": "code",
      "source": [
        "data_collator = DataCollatorWithPadding(tokenizer=tokenizer)"
      ],
      "metadata": {
        "id": "KKCJx8lVLQwL"
      },
      "id": "KKCJx8lVLQwL",
      "execution_count": null,
      "outputs": []
    },
    {
      "cell_type": "code",
      "source": [
        "model = AutoModelForSequenceClassification.from_pretrained(\n",
        "    \"distilbert-base-uncased\", num_labels=5, id2label=id2label, label2id=label2id\n",
        ")"
      ],
      "metadata": {
        "colab": {
          "base_uri": "https://localhost:8080/"
        },
        "id": "za6EnfhqKuNL",
        "outputId": "79d1769b-5eeb-4b0e-f984-22ba42b41c5e"
      },
      "id": "za6EnfhqKuNL",
      "execution_count": null,
      "outputs": [
        {
          "output_type": "stream",
          "name": "stderr",
          "text": [
            "Some weights of DistilBertForSequenceClassification were not initialized from the model checkpoint at distilbert-base-uncased and are newly initialized: ['pre_classifier.bias', 'classifier.bias', 'classifier.weight', 'pre_classifier.weight']\n",
            "You should probably TRAIN this model on a down-stream task to be able to use it for predictions and inference.\n"
          ]
        }
      ]
    },
    {
      "cell_type": "markdown",
      "source": [
        "train it"
      ],
      "metadata": {
        "id": "h9yA9FS9K2wQ"
      },
      "id": "h9yA9FS9K2wQ"
    },
    {
      "cell_type": "code",
      "source": [
        "training_args = TrainingArguments(\n",
        "    output_dir=\"lyrics-classifier\",\n",
        "    learning_rate=2e-5,\n",
        "    per_device_train_batch_size=16,\n",
        "    per_device_eval_batch_size=16,\n",
        "    num_train_epochs=4,\n",
        "    weight_decay=0.01,\n",
        "    evaluation_strategy=\"epoch\",\n",
        "    save_strategy=\"epoch\",\n",
        "    load_best_model_at_end=True\n",
        ")\n",
        "\n",
        "trainer = Trainer(\n",
        "    model=model,\n",
        "    args=training_args,\n",
        "    train_dataset=split[\"train\"],\n",
        "    eval_dataset=split[\"test\"],\n",
        "    tokenizer=tokenizer,\n",
        "    data_collator=data_collator,\n",
        "    compute_metrics=compute_metrics,\n",
        ")\n",
        "\n",
        "trainer.train()"
      ],
      "metadata": {
        "colab": {
          "base_uri": "https://localhost:8080/",
          "height": 237
        },
        "id": "jaC9Ttk-K3f6",
        "outputId": "3368189a-1abf-40fe-d07e-22bfbcaa8b72"
      },
      "id": "jaC9Ttk-K3f6",
      "execution_count": null,
      "outputs": [
        {
          "output_type": "display_data",
          "data": {
            "text/plain": [
              "<IPython.core.display.HTML object>"
            ],
            "text/html": [
              "\n",
              "    <div>\n",
              "      \n",
              "      <progress value='1144' max='1144' style='width:300px; height:20px; vertical-align: middle;'></progress>\n",
              "      [1144/1144 02:46, Epoch 4/4]\n",
              "    </div>\n",
              "    <table border=\"1\" class=\"dataframe\">\n",
              "  <thead>\n",
              " <tr style=\"text-align: left;\">\n",
              "      <th>Epoch</th>\n",
              "      <th>Training Loss</th>\n",
              "      <th>Validation Loss</th>\n",
              "      <th>Accuracy</th>\n",
              "    </tr>\n",
              "  </thead>\n",
              "  <tbody>\n",
              "    <tr>\n",
              "      <td>1</td>\n",
              "      <td>No log</td>\n",
              "      <td>1.245257</td>\n",
              "      <td>0.479021</td>\n",
              "    </tr>\n",
              "    <tr>\n",
              "      <td>2</td>\n",
              "      <td>1.238500</td>\n",
              "      <td>1.094535</td>\n",
              "      <td>0.562937</td>\n",
              "    </tr>\n",
              "    <tr>\n",
              "      <td>3</td>\n",
              "      <td>1.238500</td>\n",
              "      <td>1.050081</td>\n",
              "      <td>0.595280</td>\n",
              "    </tr>\n",
              "    <tr>\n",
              "      <td>4</td>\n",
              "      <td>0.783900</td>\n",
              "      <td>1.029619</td>\n",
              "      <td>0.621503</td>\n",
              "    </tr>\n",
              "  </tbody>\n",
              "</table><p>"
            ]
          },
          "metadata": {}
        },
        {
          "output_type": "execute_result",
          "data": {
            "text/plain": [
              "TrainOutput(global_step=1144, training_loss=0.9586711430049443, metrics={'train_runtime': 166.8234, 'train_samples_per_second': 109.721, 'train_steps_per_second': 6.858, 'total_flos': 236798143296000.0, 'train_loss': 0.9586711430049443, 'epoch': 4.0})"
            ]
          },
          "metadata": {},
          "execution_count": 107
        }
      ]
    },
    {
      "cell_type": "markdown",
      "source": [
        "# Save the trained model"
      ],
      "metadata": {
        "id": "XFFlwYP7nabp"
      },
      "id": "XFFlwYP7nabp"
    },
    {
      "cell_type": "code",
      "source": [
        "!mkdir model"
      ],
      "metadata": {
        "id": "IncE-KeKqGYm"
      },
      "id": "IncE-KeKqGYm",
      "execution_count": null,
      "outputs": []
    },
    {
      "cell_type": "code",
      "source": [
        "model_path = 'model/lyrics-classifier.pth'\n",
        "model_path_bin = 'model/lyrics-classifier.bin'\n",
        "tokenizer_path = 'model/tokenizer'\n",
        "\n",
        "torch.save(model.state_dict(), model_path)\n",
        "torch.save(model.state_dict(), model_path_bin)\n",
        "tokenizer.save_pretrained(tokenizer_path)"
      ],
      "metadata": {
        "colab": {
          "base_uri": "https://localhost:8080/"
        },
        "id": "LnTBfBtOnbsU",
        "outputId": "ef373024-86ba-448d-ddde-974823a776be"
      },
      "id": "LnTBfBtOnbsU",
      "execution_count": null,
      "outputs": [
        {
          "output_type": "execute_result",
          "data": {
            "text/plain": [
              "('model/tokenizer/tokenizer_config.json',\n",
              " 'model/tokenizer/special_tokens_map.json',\n",
              " 'model/tokenizer/vocab.txt',\n",
              " 'model/tokenizer/added_tokens.json')"
            ]
          },
          "metadata": {},
          "execution_count": 110
        }
      ]
    },
    {
      "cell_type": "markdown",
      "source": [
        "Test inference"
      ],
      "metadata": {
        "id": "iUd24_qAmMaC"
      },
      "id": "iUd24_qAmMaC"
    },
    {
      "cell_type": "code",
      "source": [
        "test_tokenizer = DistilBertTokenizer.from_pretrained(tokenizer_path)\n",
        "test_model = AutoModelForSequenceClassification.from_pretrained(\n",
        "    \"distilbert-base-uncased\", num_labels=5, id2label=id2label, label2id=label2id\n",
        ")\n",
        "test_model.load_state_dict(torch.load(model_path))"
      ],
      "metadata": {
        "colab": {
          "base_uri": "https://localhost:8080/"
        },
        "id": "-Tlu_QxLnCcg",
        "outputId": "9dd24669-2cdf-4af7-86c3-5ba06e7a81b3"
      },
      "id": "-Tlu_QxLnCcg",
      "execution_count": null,
      "outputs": [
        {
          "output_type": "stream",
          "name": "stderr",
          "text": [
            "Some weights of DistilBertForSequenceClassification were not initialized from the model checkpoint at distilbert-base-uncased and are newly initialized: ['pre_classifier.bias', 'classifier.bias', 'classifier.weight', 'pre_classifier.weight']\n",
            "You should probably TRAIN this model on a down-stream task to be able to use it for predictions and inference.\n"
          ]
        },
        {
          "output_type": "execute_result",
          "data": {
            "text/plain": [
              "<All keys matched successfully>"
            ]
          },
          "metadata": {},
          "execution_count": 130
        }
      ]
    },
    {
      "cell_type": "code",
      "source": [
        "classifier = pipeline('text-classification', model=test_model, tokenizer=test_tokenizer)"
      ],
      "metadata": {
        "id": "F-GIwR_EsqxY"
      },
      "id": "F-GIwR_EsqxY",
      "execution_count": null,
      "outputs": []
    },
    {
      "cell_type": "code",
      "source": [
        "# Imagine Dragons - Follow You\n",
        "test = \"\"\"\n",
        "You know I got your number, number all night\n",
        "I'm always on your team, I got your back, alright\n",
        "Taking those, taking those losses if it treats you right\n",
        "I wanna put you into the spotlight\n",
        "If the world would only know\n",
        "\"\"\""
      ],
      "metadata": {
        "id": "NRYN1ovAwvWr"
      },
      "id": "NRYN1ovAwvWr",
      "execution_count": null,
      "outputs": []
    },
    {
      "cell_type": "code",
      "source": [
        "classifier(test)"
      ],
      "metadata": {
        "colab": {
          "base_uri": "https://localhost:8080/"
        },
        "id": "lLnGXdXVt4lz",
        "outputId": "8b3aabb2-b57b-44c7-ca96-976499ced6d8"
      },
      "id": "lLnGXdXVt4lz",
      "execution_count": null,
      "outputs": [
        {
          "output_type": "execute_result",
          "data": {
            "text/plain": [
              "[{'label': 'pop', 'score': 0.8231419920921326}]"
            ]
          },
          "metadata": {},
          "execution_count": 132
        }
      ]
    },
    {
      "cell_type": "code",
      "source": [
        "# AC/DC - Back in black\n",
        "test2 = \"\"\"\n",
        "Back in black, I hit the sack\n",
        "I've been too long, I'm glad to be back\n",
        "Yes, I'm let loose from the noose\n",
        "That's kept me hanging about\n",
        "I'm just looking at the sky 'cause it's getting me high\n",
        "\"\"\"\n",
        "classifier(test2)"
      ],
      "metadata": {
        "colab": {
          "base_uri": "https://localhost:8080/"
        },
        "id": "hEVomQ0xvw2h",
        "outputId": "502072e2-2871-4513-ba6c-00bafd0a0b29"
      },
      "id": "hEVomQ0xvw2h",
      "execution_count": null,
      "outputs": [
        {
          "output_type": "execute_result",
          "data": {
            "text/plain": [
              "[{'label': 'rock', 'score': 0.4482513964176178}]"
            ]
          },
          "metadata": {},
          "execution_count": 135
        }
      ]
    }
  ],
  "metadata": {
    "kernelspec": {
      "display_name": "Python 3",
      "name": "python3"
    },
    "language_info": {
      "codemirror_mode": {
        "name": "ipython",
        "version": 2
      },
      "file_extension": ".py",
      "mimetype": "text/x-python",
      "name": "python",
      "nbconvert_exporter": "python",
      "pygments_lexer": "ipython2",
      "version": "2.7.6"
    },
    "colab": {
      "provenance": [],
      "gpuType": "T4"
    },
    "accelerator": "GPU",
    "widgets": {
      "application/vnd.jupyter.widget-state+json": {
        "b6d83f4883db44a4adfdc93f449c45cf": {
          "model_module": "@jupyter-widgets/controls",
          "model_name": "HBoxModel",
          "model_module_version": "1.5.0",
          "state": {
            "_dom_classes": [],
            "_model_module": "@jupyter-widgets/controls",
            "_model_module_version": "1.5.0",
            "_model_name": "HBoxModel",
            "_view_count": null,
            "_view_module": "@jupyter-widgets/controls",
            "_view_module_version": "1.5.0",
            "_view_name": "HBoxView",
            "box_style": "",
            "children": [
              "IPY_MODEL_096a1fa4d8e14f87a0141220e40ce78f",
              "IPY_MODEL_6f61ec58feef450f987ed6bae1fe0189",
              "IPY_MODEL_41fd9ecdffae40c6b89a3cccb2b99bb4"
            ],
            "layout": "IPY_MODEL_235b8af2be60476a9b8cc7c7aba48e3a"
          }
        },
        "096a1fa4d8e14f87a0141220e40ce78f": {
          "model_module": "@jupyter-widgets/controls",
          "model_name": "HTMLModel",
          "model_module_version": "1.5.0",
          "state": {
            "_dom_classes": [],
            "_model_module": "@jupyter-widgets/controls",
            "_model_module_version": "1.5.0",
            "_model_name": "HTMLModel",
            "_view_count": null,
            "_view_module": "@jupyter-widgets/controls",
            "_view_module_version": "1.5.0",
            "_view_name": "HTMLView",
            "description": "",
            "description_tooltip": null,
            "layout": "IPY_MODEL_faa01ff7d5434656a0666de74824d4c0",
            "placeholder": "​",
            "style": "IPY_MODEL_30479c0bc33c4969a1cef4a507ec8687",
            "value": "Map: 100%"
          }
        },
        "6f61ec58feef450f987ed6bae1fe0189": {
          "model_module": "@jupyter-widgets/controls",
          "model_name": "FloatProgressModel",
          "model_module_version": "1.5.0",
          "state": {
            "_dom_classes": [],
            "_model_module": "@jupyter-widgets/controls",
            "_model_module_version": "1.5.0",
            "_model_name": "FloatProgressModel",
            "_view_count": null,
            "_view_module": "@jupyter-widgets/controls",
            "_view_module_version": "1.5.0",
            "_view_name": "ProgressView",
            "bar_style": "success",
            "description": "",
            "description_tooltip": null,
            "layout": "IPY_MODEL_677ba2a4a95840078a24dd930c7451c1",
            "max": 5720,
            "min": 0,
            "orientation": "horizontal",
            "style": "IPY_MODEL_50c713cd439a4126aa5fb6df9b6b4765",
            "value": 5720
          }
        },
        "41fd9ecdffae40c6b89a3cccb2b99bb4": {
          "model_module": "@jupyter-widgets/controls",
          "model_name": "HTMLModel",
          "model_module_version": "1.5.0",
          "state": {
            "_dom_classes": [],
            "_model_module": "@jupyter-widgets/controls",
            "_model_module_version": "1.5.0",
            "_model_name": "HTMLModel",
            "_view_count": null,
            "_view_module": "@jupyter-widgets/controls",
            "_view_module_version": "1.5.0",
            "_view_name": "HTMLView",
            "description": "",
            "description_tooltip": null,
            "layout": "IPY_MODEL_65bb82df33cc4799aef572b30cd67265",
            "placeholder": "​",
            "style": "IPY_MODEL_628673bcffe64c7caf02cc38e8c711c5",
            "value": " 5720/5720 [00:20&lt;00:00, 307.83 examples/s]"
          }
        },
        "235b8af2be60476a9b8cc7c7aba48e3a": {
          "model_module": "@jupyter-widgets/base",
          "model_name": "LayoutModel",
          "model_module_version": "1.2.0",
          "state": {
            "_model_module": "@jupyter-widgets/base",
            "_model_module_version": "1.2.0",
            "_model_name": "LayoutModel",
            "_view_count": null,
            "_view_module": "@jupyter-widgets/base",
            "_view_module_version": "1.2.0",
            "_view_name": "LayoutView",
            "align_content": null,
            "align_items": null,
            "align_self": null,
            "border": null,
            "bottom": null,
            "display": null,
            "flex": null,
            "flex_flow": null,
            "grid_area": null,
            "grid_auto_columns": null,
            "grid_auto_flow": null,
            "grid_auto_rows": null,
            "grid_column": null,
            "grid_gap": null,
            "grid_row": null,
            "grid_template_areas": null,
            "grid_template_columns": null,
            "grid_template_rows": null,
            "height": null,
            "justify_content": null,
            "justify_items": null,
            "left": null,
            "margin": null,
            "max_height": null,
            "max_width": null,
            "min_height": null,
            "min_width": null,
            "object_fit": null,
            "object_position": null,
            "order": null,
            "overflow": null,
            "overflow_x": null,
            "overflow_y": null,
            "padding": null,
            "right": null,
            "top": null,
            "visibility": null,
            "width": null
          }
        },
        "faa01ff7d5434656a0666de74824d4c0": {
          "model_module": "@jupyter-widgets/base",
          "model_name": "LayoutModel",
          "model_module_version": "1.2.0",
          "state": {
            "_model_module": "@jupyter-widgets/base",
            "_model_module_version": "1.2.0",
            "_model_name": "LayoutModel",
            "_view_count": null,
            "_view_module": "@jupyter-widgets/base",
            "_view_module_version": "1.2.0",
            "_view_name": "LayoutView",
            "align_content": null,
            "align_items": null,
            "align_self": null,
            "border": null,
            "bottom": null,
            "display": null,
            "flex": null,
            "flex_flow": null,
            "grid_area": null,
            "grid_auto_columns": null,
            "grid_auto_flow": null,
            "grid_auto_rows": null,
            "grid_column": null,
            "grid_gap": null,
            "grid_row": null,
            "grid_template_areas": null,
            "grid_template_columns": null,
            "grid_template_rows": null,
            "height": null,
            "justify_content": null,
            "justify_items": null,
            "left": null,
            "margin": null,
            "max_height": null,
            "max_width": null,
            "min_height": null,
            "min_width": null,
            "object_fit": null,
            "object_position": null,
            "order": null,
            "overflow": null,
            "overflow_x": null,
            "overflow_y": null,
            "padding": null,
            "right": null,
            "top": null,
            "visibility": null,
            "width": null
          }
        },
        "30479c0bc33c4969a1cef4a507ec8687": {
          "model_module": "@jupyter-widgets/controls",
          "model_name": "DescriptionStyleModel",
          "model_module_version": "1.5.0",
          "state": {
            "_model_module": "@jupyter-widgets/controls",
            "_model_module_version": "1.5.0",
            "_model_name": "DescriptionStyleModel",
            "_view_count": null,
            "_view_module": "@jupyter-widgets/base",
            "_view_module_version": "1.2.0",
            "_view_name": "StyleView",
            "description_width": ""
          }
        },
        "677ba2a4a95840078a24dd930c7451c1": {
          "model_module": "@jupyter-widgets/base",
          "model_name": "LayoutModel",
          "model_module_version": "1.2.0",
          "state": {
            "_model_module": "@jupyter-widgets/base",
            "_model_module_version": "1.2.0",
            "_model_name": "LayoutModel",
            "_view_count": null,
            "_view_module": "@jupyter-widgets/base",
            "_view_module_version": "1.2.0",
            "_view_name": "LayoutView",
            "align_content": null,
            "align_items": null,
            "align_self": null,
            "border": null,
            "bottom": null,
            "display": null,
            "flex": null,
            "flex_flow": null,
            "grid_area": null,
            "grid_auto_columns": null,
            "grid_auto_flow": null,
            "grid_auto_rows": null,
            "grid_column": null,
            "grid_gap": null,
            "grid_row": null,
            "grid_template_areas": null,
            "grid_template_columns": null,
            "grid_template_rows": null,
            "height": null,
            "justify_content": null,
            "justify_items": null,
            "left": null,
            "margin": null,
            "max_height": null,
            "max_width": null,
            "min_height": null,
            "min_width": null,
            "object_fit": null,
            "object_position": null,
            "order": null,
            "overflow": null,
            "overflow_x": null,
            "overflow_y": null,
            "padding": null,
            "right": null,
            "top": null,
            "visibility": null,
            "width": null
          }
        },
        "50c713cd439a4126aa5fb6df9b6b4765": {
          "model_module": "@jupyter-widgets/controls",
          "model_name": "ProgressStyleModel",
          "model_module_version": "1.5.0",
          "state": {
            "_model_module": "@jupyter-widgets/controls",
            "_model_module_version": "1.5.0",
            "_model_name": "ProgressStyleModel",
            "_view_count": null,
            "_view_module": "@jupyter-widgets/base",
            "_view_module_version": "1.2.0",
            "_view_name": "StyleView",
            "bar_color": null,
            "description_width": ""
          }
        },
        "65bb82df33cc4799aef572b30cd67265": {
          "model_module": "@jupyter-widgets/base",
          "model_name": "LayoutModel",
          "model_module_version": "1.2.0",
          "state": {
            "_model_module": "@jupyter-widgets/base",
            "_model_module_version": "1.2.0",
            "_model_name": "LayoutModel",
            "_view_count": null,
            "_view_module": "@jupyter-widgets/base",
            "_view_module_version": "1.2.0",
            "_view_name": "LayoutView",
            "align_content": null,
            "align_items": null,
            "align_self": null,
            "border": null,
            "bottom": null,
            "display": null,
            "flex": null,
            "flex_flow": null,
            "grid_area": null,
            "grid_auto_columns": null,
            "grid_auto_flow": null,
            "grid_auto_rows": null,
            "grid_column": null,
            "grid_gap": null,
            "grid_row": null,
            "grid_template_areas": null,
            "grid_template_columns": null,
            "grid_template_rows": null,
            "height": null,
            "justify_content": null,
            "justify_items": null,
            "left": null,
            "margin": null,
            "max_height": null,
            "max_width": null,
            "min_height": null,
            "min_width": null,
            "object_fit": null,
            "object_position": null,
            "order": null,
            "overflow": null,
            "overflow_x": null,
            "overflow_y": null,
            "padding": null,
            "right": null,
            "top": null,
            "visibility": null,
            "width": null
          }
        },
        "628673bcffe64c7caf02cc38e8c711c5": {
          "model_module": "@jupyter-widgets/controls",
          "model_name": "DescriptionStyleModel",
          "model_module_version": "1.5.0",
          "state": {
            "_model_module": "@jupyter-widgets/controls",
            "_model_module_version": "1.5.0",
            "_model_name": "DescriptionStyleModel",
            "_view_count": null,
            "_view_module": "@jupyter-widgets/base",
            "_view_module_version": "1.2.0",
            "_view_name": "StyleView",
            "description_width": ""
          }
        }
      }
    }
  },
  "nbformat": 4,
  "nbformat_minor": 5
}