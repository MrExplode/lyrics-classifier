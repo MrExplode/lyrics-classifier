{
 "cells": [
  {
   "cell_type": "markdown",
   "source": [
    "# Lyrics Classifier research notebook\n",
    "This notebook attempts to classify some stuff about songs based on their lyrics."
   ],
   "metadata": {
    "collapsed": false
   },
   "id": "819dca604f318a08"
  },
  {
   "cell_type": "markdown",
   "source": [
    "### Imports"
   ],
   "metadata": {
    "collapsed": false
   },
   "id": "ff02b5701e9ff323"
  },
  {
   "cell_type": "code",
   "execution_count": 1,
   "id": "initial_id",
   "metadata": {
    "collapsed": true,
    "ExecuteTime": {
     "end_time": "2023-11-15T20:29:44.949971700Z",
     "start_time": "2023-11-15T20:29:43.841427Z"
    }
   },
   "outputs": [],
   "source": [
    "import pandas as pd\n",
    "import numpy as np\n",
    "import matplotlib.pyplot as plt"
   ]
  },
  {
   "cell_type": "markdown",
   "source": [
    "## Data\n",
    "\n",
    "Lyrics - [Kaggle](https://www.kaggle.com/datasets/notshrirang/spotify-million-song-dataset/)\n",
    "**BIG** dataset containing nothing but the song name and lyrics"
   ],
   "metadata": {
    "collapsed": false
   },
   "id": "cb56986bba3daf43"
  },
  {
   "cell_type": "code",
   "execution_count": 16,
   "outputs": [
    {
     "data": {
      "text/plain": "Index(['artist', 'song', 'text'], dtype='object')"
     },
     "execution_count": 16,
     "metadata": {},
     "output_type": "execute_result"
    }
   ],
   "source": [
    "lyrics_data = pd.read_csv('lyrics_data.csv')\n",
    "lyrics_data = lyrics_data.drop(columns=['link'])\n",
    "lyrics_data.columns"
   ],
   "metadata": {
    "collapsed": false,
    "ExecuteTime": {
     "end_time": "2023-11-15T20:35:56.490003500Z",
     "start_time": "2023-11-15T20:35:55.658494Z"
    }
   },
   "id": "61629fa34e5c3b9c"
  },
  {
   "cell_type": "markdown",
   "source": [
    "Meta dataset #1 - [Kaggle](https://www.kaggle.com/datasets/maharshipandya/-spotify-tracks-dataset)\n",
    "\n",
    "Detailed track information.  \n",
    "We have to clean it up."
   ],
   "metadata": {
    "collapsed": false
   },
   "id": "94e6f24bc28d0eed"
  },
  {
   "cell_type": "code",
   "execution_count": 75,
   "outputs": [
    {
     "data": {
      "text/plain": "Index(['artist', 'song', 'duration_ms', 'danceability', 'energy', 'key',\n       'loudness', 'speechiness', 'acousticness', 'instrumentalness',\n       'liveness', 'valence', 'tempo', 'track_genre'],\n      dtype='object')"
     },
     "execution_count": 75,
     "metadata": {},
     "output_type": "execute_result"
    }
   ],
   "source": [
    "meta_data = pd.read_csv('meta_data_1.csv')\n",
    "meta_data = meta_data.drop_duplicates(subset=['track_name', 'artists'])\n",
    "meta_data = meta_data.drop(columns=['track_id', 'album_name', 'time_signature', 'popularity', 'explicit', 'mode'])\n",
    "meta_data = meta_data.drop(meta_data.columns[0], axis=1)\n",
    "meta_data = meta_data.rename(columns={'track_name': 'song', 'artists': 'artist'})\n",
    "meta_data.columns"
   ],
   "metadata": {
    "collapsed": false,
    "ExecuteTime": {
     "end_time": "2023-11-15T21:17:46.012592100Z",
     "start_time": "2023-11-15T21:17:45.681500800Z"
    }
   },
   "id": "aad9de26ce740a69"
  },
  {
   "cell_type": "markdown",
   "source": [
    "Meta dataset #2 - [Kaggle](https://www.kaggle.com/datasets/salvatorerastelli/spotify-and-youtube)\n",
    "\n",
    "Pretty much the same as the first meta dataset, I hope it contains more data."
   ],
   "metadata": {
    "collapsed": false
   },
   "id": "3f087f8a2f6974c5"
  },
  {
   "cell_type": "code",
   "execution_count": 73,
   "outputs": [
    {
     "data": {
      "text/plain": "Index(['artist', 'song', 'danceability', 'energy', 'key', 'loudness',\n       'speechiness', 'acousticness', 'instrumentalness', 'liveness',\n       'valence', 'tempo', 'duration_ms'],\n      dtype='object')"
     },
     "execution_count": 73,
     "metadata": {},
     "output_type": "execute_result"
    }
   ],
   "source": [
    "meta_data2 = pd.read_csv('meta_data_2.csv')\n",
    "meta_data2 = (meta_data2.drop_duplicates(subset=['Track', 'Artist'])\n",
    "              .drop(columns=['Url_spotify', 'Album', 'Album_type', 'Uri', 'Url_youtube', 'Channel', 'Views', 'Likes', 'Comments', 'Description', 'Licensed', 'official_video', 'Stream', 'Title'])\n",
    "              .drop(meta_data2.columns[0], axis=1)\n",
    "              .rename(columns={'Track': 'song'})\n",
    "              )\n",
    "meta_data2.columns = map(str.lower, meta_data2.columns)\n",
    "meta_data2.columns"
   ],
   "metadata": {
    "collapsed": false,
    "ExecuteTime": {
     "end_time": "2023-11-15T21:17:14.391289300Z",
     "start_time": "2023-11-15T21:17:13.941629600Z"
    }
   },
   "id": "5acfd7a70990d301"
  },
  {
   "cell_type": "markdown",
   "source": [
    "# Combining datasets\n",
    "\n",
    "We have our separate datasets: one for lyrics, two for other data  \n",
    "Now we try to join them together on the song names."
   ],
   "metadata": {
    "collapsed": false
   },
   "id": "6b07acb336b58f41"
  },
  {
   "cell_type": "code",
   "execution_count": 80,
   "outputs": [
    {
     "name": "stdout",
     "output_type": "stream",
     "text": [
      "merge1 size: (1127, 15)\n",
      "merge2 size: (1037, 14)\n"
     ]
    }
   ],
   "source": [
    "merge1 = pd.merge(lyrics_data, meta_data, on=['artist', 'song'])\n",
    "merge2 = pd.merge(lyrics_data, meta_data2, on=['artist', 'song'])\n",
    "print('merge1 size:', merge1.shape)\n",
    "print('merge2 size:', merge2.shape)"
   ],
   "metadata": {
    "collapsed": false,
    "ExecuteTime": {
     "end_time": "2023-11-15T21:19:25.570740200Z",
     "start_time": "2023-11-15T21:19:25.489438400Z"
    }
   },
   "id": "5f1799476ac0c1fb"
  },
  {
   "cell_type": "code",
   "execution_count": 83,
   "outputs": [
    {
     "name": "stdout",
     "output_type": "stream",
     "text": [
      "combined unique songs with lyrics and metadata: (1753, 15)\n"
     ]
    },
    {
     "data": {
      "text/plain": "               artist                        song  \\\n0                ABBA            Andante, Andante   \n1                ABBA                  Chiquitita   \n2                ABBA               Dancing Queen   \n3                ABBA       Does Your Mother Know   \n4                ABBA                    Fernando   \n...               ...                         ...   \n1032         Yelawolf               Daddy's Lambo   \n1033         Yelawolf               Pop The Trunk   \n1034  Ying Yang Twins                     Naggin'   \n1035  Ying Yang Twins                       Shake   \n1036         Yoko Ono  Nobody Sees Me Like You Do   \n\n                                                   text  duration_ms  \\\n0     Take it easy with me, please  \\r\\nTouch me gen...     278213.0   \n1     Chiquitita, tell me what's wrong  \\r\\nYou're e...     326320.0   \n2     You can dance, you can jive, having the time o...     230400.0   \n3     You're so hot, teasing me  \\r\\nSo you're blue ...     193560.0   \n4     Can you hear the drums Fernando?  \\r\\nI rememb...     252960.0   \n...                                                 ...          ...   \n1032  You really in Beverly hills  \\r\\nAnd so Drama ...     227573.0   \n1033  Meth lab in the back and the crack smoke pills...     228160.0   \n1034  Every now and then you get mad  \\r\\nSometime I...     263227.0   \n1035  Shake, shake, just shake, shake, just shake, s...     241587.0   \n1036  I see your face looking into the space,  \\r\\nA...     236533.0   \n\n      danceability  energy   key  loudness  speechiness  acousticness  \\\n0            0.523   0.361  10.0   -10.718       0.0238      0.684000   \n1            0.500   0.554   9.0    -8.108       0.0354      0.734000   \n2            0.543   0.870   9.0    -6.514       0.0428      0.358000   \n3            0.703   0.824   7.0    -5.170       0.0364      0.050400   \n4            0.354   0.535   9.0    -8.876       0.0303      0.627000   \n...            ...     ...   ...       ...          ...           ...   \n1032         0.779   0.725  11.0    -7.128       0.1450      0.025900   \n1033         0.912   0.673   2.0    -8.910       0.1090      0.099500   \n1034         0.708   0.854   1.0    -5.724       0.0322      0.000682   \n1035         0.918   0.681   1.0    -7.399       0.3090      0.337000   \n1036         0.388   0.546   4.0    -6.704       0.0268      0.116000   \n\n      instrumentalness  liveness  valence    tempo track_genre  \n0             0.000348    0.0671    0.380  101.887     swedish  \n1             0.000004    0.3120    0.372   84.229     swedish  \n2             0.000939    0.7920    0.754  100.804     swedish  \n3             0.000092    0.0970    0.971  135.240     swedish  \n4             0.000003    0.0808    0.434  110.821     swedish  \n...                ...       ...      ...      ...         ...  \n1032          0.000000    0.0946    0.335  131.997         NaN  \n1033          0.000000    0.1030    0.123  120.157         NaN  \n1034          0.000000    0.2780    0.914  100.005         NaN  \n1035          0.000000    0.6440    0.843  117.994         NaN  \n1036          0.557000    0.1240    0.124   79.447         NaN  \n\n[1753 rows x 15 columns]",
      "text/html": "<div>\n<style scoped>\n    .dataframe tbody tr th:only-of-type {\n        vertical-align: middle;\n    }\n\n    .dataframe tbody tr th {\n        vertical-align: top;\n    }\n\n    .dataframe thead th {\n        text-align: right;\n    }\n</style>\n<table border=\"1\" class=\"dataframe\">\n  <thead>\n    <tr style=\"text-align: right;\">\n      <th></th>\n      <th>artist</th>\n      <th>song</th>\n      <th>text</th>\n      <th>duration_ms</th>\n      <th>danceability</th>\n      <th>energy</th>\n      <th>key</th>\n      <th>loudness</th>\n      <th>speechiness</th>\n      <th>acousticness</th>\n      <th>instrumentalness</th>\n      <th>liveness</th>\n      <th>valence</th>\n      <th>tempo</th>\n      <th>track_genre</th>\n    </tr>\n  </thead>\n  <tbody>\n    <tr>\n      <th>0</th>\n      <td>ABBA</td>\n      <td>Andante, Andante</td>\n      <td>Take it easy with me, please  \\r\\nTouch me gen...</td>\n      <td>278213.0</td>\n      <td>0.523</td>\n      <td>0.361</td>\n      <td>10.0</td>\n      <td>-10.718</td>\n      <td>0.0238</td>\n      <td>0.684000</td>\n      <td>0.000348</td>\n      <td>0.0671</td>\n      <td>0.380</td>\n      <td>101.887</td>\n      <td>swedish</td>\n    </tr>\n    <tr>\n      <th>1</th>\n      <td>ABBA</td>\n      <td>Chiquitita</td>\n      <td>Chiquitita, tell me what's wrong  \\r\\nYou're e...</td>\n      <td>326320.0</td>\n      <td>0.500</td>\n      <td>0.554</td>\n      <td>9.0</td>\n      <td>-8.108</td>\n      <td>0.0354</td>\n      <td>0.734000</td>\n      <td>0.000004</td>\n      <td>0.3120</td>\n      <td>0.372</td>\n      <td>84.229</td>\n      <td>swedish</td>\n    </tr>\n    <tr>\n      <th>2</th>\n      <td>ABBA</td>\n      <td>Dancing Queen</td>\n      <td>You can dance, you can jive, having the time o...</td>\n      <td>230400.0</td>\n      <td>0.543</td>\n      <td>0.870</td>\n      <td>9.0</td>\n      <td>-6.514</td>\n      <td>0.0428</td>\n      <td>0.358000</td>\n      <td>0.000939</td>\n      <td>0.7920</td>\n      <td>0.754</td>\n      <td>100.804</td>\n      <td>swedish</td>\n    </tr>\n    <tr>\n      <th>3</th>\n      <td>ABBA</td>\n      <td>Does Your Mother Know</td>\n      <td>You're so hot, teasing me  \\r\\nSo you're blue ...</td>\n      <td>193560.0</td>\n      <td>0.703</td>\n      <td>0.824</td>\n      <td>7.0</td>\n      <td>-5.170</td>\n      <td>0.0364</td>\n      <td>0.050400</td>\n      <td>0.000092</td>\n      <td>0.0970</td>\n      <td>0.971</td>\n      <td>135.240</td>\n      <td>swedish</td>\n    </tr>\n    <tr>\n      <th>4</th>\n      <td>ABBA</td>\n      <td>Fernando</td>\n      <td>Can you hear the drums Fernando?  \\r\\nI rememb...</td>\n      <td>252960.0</td>\n      <td>0.354</td>\n      <td>0.535</td>\n      <td>9.0</td>\n      <td>-8.876</td>\n      <td>0.0303</td>\n      <td>0.627000</td>\n      <td>0.000003</td>\n      <td>0.0808</td>\n      <td>0.434</td>\n      <td>110.821</td>\n      <td>swedish</td>\n    </tr>\n    <tr>\n      <th>...</th>\n      <td>...</td>\n      <td>...</td>\n      <td>...</td>\n      <td>...</td>\n      <td>...</td>\n      <td>...</td>\n      <td>...</td>\n      <td>...</td>\n      <td>...</td>\n      <td>...</td>\n      <td>...</td>\n      <td>...</td>\n      <td>...</td>\n      <td>...</td>\n      <td>...</td>\n    </tr>\n    <tr>\n      <th>1032</th>\n      <td>Yelawolf</td>\n      <td>Daddy's Lambo</td>\n      <td>You really in Beverly hills  \\r\\nAnd so Drama ...</td>\n      <td>227573.0</td>\n      <td>0.779</td>\n      <td>0.725</td>\n      <td>11.0</td>\n      <td>-7.128</td>\n      <td>0.1450</td>\n      <td>0.025900</td>\n      <td>0.000000</td>\n      <td>0.0946</td>\n      <td>0.335</td>\n      <td>131.997</td>\n      <td>NaN</td>\n    </tr>\n    <tr>\n      <th>1033</th>\n      <td>Yelawolf</td>\n      <td>Pop The Trunk</td>\n      <td>Meth lab in the back and the crack smoke pills...</td>\n      <td>228160.0</td>\n      <td>0.912</td>\n      <td>0.673</td>\n      <td>2.0</td>\n      <td>-8.910</td>\n      <td>0.1090</td>\n      <td>0.099500</td>\n      <td>0.000000</td>\n      <td>0.1030</td>\n      <td>0.123</td>\n      <td>120.157</td>\n      <td>NaN</td>\n    </tr>\n    <tr>\n      <th>1034</th>\n      <td>Ying Yang Twins</td>\n      <td>Naggin'</td>\n      <td>Every now and then you get mad  \\r\\nSometime I...</td>\n      <td>263227.0</td>\n      <td>0.708</td>\n      <td>0.854</td>\n      <td>1.0</td>\n      <td>-5.724</td>\n      <td>0.0322</td>\n      <td>0.000682</td>\n      <td>0.000000</td>\n      <td>0.2780</td>\n      <td>0.914</td>\n      <td>100.005</td>\n      <td>NaN</td>\n    </tr>\n    <tr>\n      <th>1035</th>\n      <td>Ying Yang Twins</td>\n      <td>Shake</td>\n      <td>Shake, shake, just shake, shake, just shake, s...</td>\n      <td>241587.0</td>\n      <td>0.918</td>\n      <td>0.681</td>\n      <td>1.0</td>\n      <td>-7.399</td>\n      <td>0.3090</td>\n      <td>0.337000</td>\n      <td>0.000000</td>\n      <td>0.6440</td>\n      <td>0.843</td>\n      <td>117.994</td>\n      <td>NaN</td>\n    </tr>\n    <tr>\n      <th>1036</th>\n      <td>Yoko Ono</td>\n      <td>Nobody Sees Me Like You Do</td>\n      <td>I see your face looking into the space,  \\r\\nA...</td>\n      <td>236533.0</td>\n      <td>0.388</td>\n      <td>0.546</td>\n      <td>4.0</td>\n      <td>-6.704</td>\n      <td>0.0268</td>\n      <td>0.116000</td>\n      <td>0.557000</td>\n      <td>0.1240</td>\n      <td>0.124</td>\n      <td>79.447</td>\n      <td>NaN</td>\n    </tr>\n  </tbody>\n</table>\n<p>1753 rows × 15 columns</p>\n</div>"
     },
     "execution_count": 83,
     "metadata": {},
     "output_type": "execute_result"
    }
   ],
   "source": [
    "concat = pd.concat([merge1, merge2])\n",
    "concat = concat.drop_duplicates(subset=['artist', 'song'])\n",
    "print('combined unique songs with lyrics and metadata:', concat.shape)\n",
    "concat"
   ],
   "metadata": {
    "collapsed": false,
    "ExecuteTime": {
     "end_time": "2023-11-15T21:22:04.732625Z",
     "start_time": "2023-11-15T21:22:04.711848600Z"
    }
   },
   "id": "5f6bde2e8c7e5246"
  }
 ],
 "metadata": {
  "kernelspec": {
   "display_name": "Python 3",
   "language": "python",
   "name": "python3"
  },
  "language_info": {
   "codemirror_mode": {
    "name": "ipython",
    "version": 2
   },
   "file_extension": ".py",
   "mimetype": "text/x-python",
   "name": "python",
   "nbconvert_exporter": "python",
   "pygments_lexer": "ipython2",
   "version": "2.7.6"
  }
 },
 "nbformat": 4,
 "nbformat_minor": 5
}
